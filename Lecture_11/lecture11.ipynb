{
 "cells": [
  {
   "cell_type": "markdown",
   "id": "ffc1e2fe",
   "metadata": {},
   "source": [
    "# <span style=\"color:red\"> Lecture 11: Subsetting Data </span>"
   ]
  },
  {
   "cell_type": "markdown",
   "id": "e9e980d3",
   "metadata": {},
   "source": [
    "<font size = \"4\">\n",
    "\n",
    "Topics you should know up to this point:\n",
    "\n",
    "- *Data Types:* int, float, str, lists, arrays,<br>\n",
    "booleans, pandas dataframes\n",
    "\n",
    "- *Numpy:* mathematical functions <br>\n",
    " and random numbers\n",
    "\n",
    "- If/else statements and *loops*\n",
    "\n",
    "If there are any of these topics you need help <br>\n",
    " understanding, don't be afraid to come to office hours!"
   ]
  },
  {
   "cell_type": "markdown",
   "id": "69b69e45",
   "metadata": {},
   "source": [
    "<font size = \"4\">\n",
    "\n",
    "This lecture:\n",
    "\n",
    "- pandas dataframes\n",
    "- subsetting data"
   ]
  },
  {
   "cell_type": "markdown",
   "id": "925190bf",
   "metadata": {},
   "source": [
    "## <span style=\"color:red\"> I. Import Libraries and Read Files</span>"
   ]
  },
  {
   "cell_type": "code",
   "execution_count": 1,
   "id": "b672d551",
   "metadata": {},
   "outputs": [],
   "source": [
    "# the \"pandas\" library is for manipualting datasets\n",
    "# the \"matplotlib.pyplot\" library is for creating graphs\n",
    "import pandas as pd\n",
    "import matplotlib.pyplot as plt"
   ]
  },
  {
   "cell_type": "markdown",
   "id": "dee0bfc2",
   "metadata": {},
   "source": [
    "<font size = \"4\">\n",
    "\n",
    "How should I load in the .csv file inside the data_raw folder?"
   ]
  },
  {
   "cell_type": "code",
   "execution_count": 4,
   "id": "ad3f4fc7",
   "metadata": {},
   "outputs": [
    {
     "name": "stdout",
     "output_type": "stream",
     "text": [
      "/Users/AbigailWang/Documents/GitHub/qtm151fall2025/Lecture_11\n"
     ]
    }
   ],
   "source": [
    "# Read the car features dataset\n",
    "\n",
    "carfeatures = ...\n",
    "import os\n",
    "print(os.getcwd())\n",
    "carfeatures = pd.read_csv(\"/Users/AbigailWang/Documents/GitHub/qtm151fall2025/Lecture_11/features.csv\")"
   ]
  },
  {
   "cell_type": "code",
   "execution_count": 5,
   "id": "13c230bc",
   "metadata": {},
   "outputs": [
    {
     "data": {
      "text/plain": [
       "pandas.core.frame.DataFrame"
      ]
     },
     "execution_count": 5,
     "metadata": {},
     "output_type": "execute_result"
    }
   ],
   "source": [
    "type(carfeatures)"
   ]
  },
  {
   "cell_type": "markdown",
   "id": "5bd5b246",
   "metadata": {},
   "source": [
    "## <span style=\"color:red\"> II. Basic data display </span>\n",
    "\n",
    "<font size = \"4\">\n",
    "\n",
    "- Go to the Jupyter Variables tab at the top of the notebook. Then click on icon to the left of \"carfeatures\"\n",
    "- OR type ``print(carfeatures)``\n",
    "- OR simply type ``carfeatures`` as the last line of a cell"
   ]
  },
  {
   "cell_type": "code",
   "execution_count": 6,
   "id": "226f1cb8",
   "metadata": {},
   "outputs": [
    {
     "name": "stdout",
     "output_type": "stream",
     "text": [
      "      mpg  cylinders  displacement horsepower  weight  acceleration vehicle_id\n",
      "0    18.0          8           307        130    3504          12.0  C-1689780\n",
      "1    15.0          8           350        165    3693          11.5  B-1689791\n",
      "2    18.0          8           318        150    3436          11.0  P-1689802\n",
      "3    16.0          8           304        150    3433          12.0  A-1689813\n",
      "4    17.0          8           302        140    3449          10.5  F-1689824\n",
      "..    ...        ...           ...        ...     ...           ...        ...\n",
      "393  27.0          4           140         86    2790          15.6  F-1694103\n",
      "394  44.0          4            97         52    2130          24.6  V-1694114\n",
      "395  32.0          4           135         84    2295          11.6  D-1694125\n",
      "396  28.0          4           120         79    2625          18.6  F-1694136\n",
      "397  31.0          4           119         82    2720          19.4  C-1694147\n",
      "\n",
      "[398 rows x 7 columns]\n"
     ]
    }
   ],
   "source": [
    "print(carfeatures)"
   ]
  },
  {
   "cell_type": "code",
   "execution_count": 7,
   "id": "7aa1df78",
   "metadata": {},
   "outputs": [
    {
     "data": {
      "application/vnd.microsoft.datawrangler.viewer.v0+json": {
       "columns": [
        {
         "name": "index",
         "rawType": "int64",
         "type": "integer"
        },
        {
         "name": "mpg",
         "rawType": "float64",
         "type": "float"
        },
        {
         "name": "cylinders",
         "rawType": "int64",
         "type": "integer"
        },
        {
         "name": "displacement",
         "rawType": "int64",
         "type": "integer"
        },
        {
         "name": "horsepower",
         "rawType": "object",
         "type": "unknown"
        },
        {
         "name": "weight",
         "rawType": "int64",
         "type": "integer"
        },
        {
         "name": "acceleration",
         "rawType": "float64",
         "type": "float"
        },
        {
         "name": "vehicle_id",
         "rawType": "object",
         "type": "string"
        }
       ],
       "ref": "6138aae2-d590-4337-b14b-c0bf6089ef11",
       "rows": [
        [
         "0",
         "18.0",
         "8",
         "307",
         "130",
         "3504",
         "12.0",
         "C-1689780"
        ],
        [
         "1",
         "15.0",
         "8",
         "350",
         "165",
         "3693",
         "11.5",
         "B-1689791"
        ],
        [
         "2",
         "18.0",
         "8",
         "318",
         "150",
         "3436",
         "11.0",
         "P-1689802"
        ],
        [
         "3",
         "16.0",
         "8",
         "304",
         "150",
         "3433",
         "12.0",
         "A-1689813"
        ],
        [
         "4",
         "17.0",
         "8",
         "302",
         "140",
         "3449",
         "10.5",
         "F-1689824"
        ],
        [
         "5",
         "15.0",
         "8",
         "429",
         "198",
         "4341",
         "10.0",
         "F-1689835"
        ],
        [
         "6",
         "14.0",
         "8",
         "454",
         "220",
         "4354",
         "9.0",
         "C-1689846"
        ],
        [
         "7",
         "14.0",
         "8",
         "440",
         "215",
         "4312",
         "8.5",
         "P-1689857"
        ],
        [
         "8",
         "14.0",
         "8",
         "455",
         "225",
         "4425",
         "10.0",
         "P-1689868"
        ],
        [
         "9",
         "15.0",
         "8",
         "390",
         "190",
         "3850",
         "8.5",
         "A-1689879"
        ],
        [
         "10",
         "15.0",
         "8",
         "383",
         "170",
         "3563",
         "10.0",
         "D-1689890"
        ],
        [
         "11",
         "14.0",
         "8",
         "340",
         "160",
         "3609",
         "8.0",
         "P-1689901"
        ],
        [
         "12",
         "15.0",
         "8",
         "400",
         "150",
         "3761",
         "9.5",
         "C-1689912"
        ],
        [
         "13",
         "14.0",
         "8",
         "455",
         "225",
         "3086",
         "10.0",
         "B-1689923"
        ],
        [
         "14",
         "24.0",
         "4",
         "113",
         "95",
         "2372",
         "15.0",
         "T-1689934"
        ],
        [
         "15",
         "22.0",
         "6",
         "198",
         "95",
         "2833",
         "15.5",
         "P-1689945"
        ],
        [
         "16",
         "18.0",
         "6",
         "199",
         "97",
         "2774",
         "15.5",
         "A-1689956"
        ],
        [
         "17",
         "21.0",
         "6",
         "200",
         "85",
         "2587",
         "16.0",
         "F-1689967"
        ],
        [
         "18",
         "27.0",
         "4",
         "97",
         "88",
         "2130",
         "14.5",
         "D-1689978"
        ],
        [
         "19",
         "26.0",
         "4",
         "97",
         "46",
         "1835",
         "20.5",
         "V-1689989"
        ],
        [
         "20",
         "25.0",
         "4",
         "110",
         "87",
         "2672",
         "17.5",
         "P-1690000"
        ],
        [
         "21",
         "24.0",
         "4",
         "107",
         "90",
         "2430",
         "14.5",
         "A-1690011"
        ],
        [
         "22",
         "25.0",
         "4",
         "104",
         "95",
         "2375",
         "17.5",
         "S-1690022"
        ],
        [
         "23",
         "26.0",
         "4",
         "121",
         "113",
         "2234",
         "12.5",
         "B-1690033"
        ],
        [
         "24",
         "21.0",
         "6",
         "199",
         "90",
         "2648",
         "15.0",
         "A-1690044"
        ],
        [
         "25",
         "10.0",
         "8",
         "360",
         "215",
         "4615",
         "14.0",
         "F-1690055"
        ],
        [
         "26",
         "10.0",
         "8",
         "307",
         "200",
         "4376",
         "15.0",
         "C-1690066"
        ],
        [
         "27",
         "11.0",
         "8",
         "318",
         "210",
         "4382",
         "13.5",
         "D-1690077"
        ],
        [
         "28",
         "9.0",
         "8",
         "304",
         "193",
         "4732",
         "18.5",
         "H-1690088"
        ],
        [
         "29",
         "27.0",
         "4",
         "97",
         "88",
         "2130",
         "14.5",
         "D-1690099"
        ],
        [
         "30",
         "28.0",
         "4",
         "140",
         "90",
         "2264",
         "15.5",
         "C-1690110"
        ],
        [
         "31",
         "25.0",
         "4",
         "113",
         "95",
         "2228",
         "14.0",
         "T-1690121"
        ],
        [
         "32",
         "25.0",
         "4",
         "98",
         null,
         "2046",
         "19.0",
         "F-1690132"
        ],
        [
         "33",
         "19.0",
         "6",
         "232",
         "100",
         "2634",
         "13.0",
         "A-1690143"
        ],
        [
         "34",
         "16.0",
         "6",
         "225",
         "105",
         "3439",
         "15.5",
         "P-1690154"
        ],
        [
         "35",
         "17.0",
         "6",
         "250",
         "100",
         "3329",
         "15.5",
         "C-1690165"
        ],
        [
         "36",
         "19.0",
         "6",
         "250",
         "88",
         "3302",
         "15.5",
         "F-1690176"
        ],
        [
         "37",
         "18.0",
         "6",
         "232",
         "100",
         "3288",
         "15.5",
         "A-1690187"
        ],
        [
         "38",
         "14.0",
         "8",
         "350",
         "165",
         "4209",
         "12.0",
         "C-1690198"
        ],
        [
         "39",
         "14.0",
         "8",
         "400",
         "175",
         "4464",
         "11.5",
         "P-1690209"
        ],
        [
         "40",
         "14.0",
         "8",
         "351",
         "153",
         "4154",
         "13.5",
         "F-1690220"
        ],
        [
         "41",
         "14.0",
         "8",
         "318",
         "150",
         "4096",
         "13.0",
         "P-1690231"
        ],
        [
         "42",
         "12.0",
         "8",
         "383",
         "180",
         "4955",
         "11.5",
         "D-1690242"
        ],
        [
         "43",
         "13.0",
         "8",
         "400",
         "170",
         "4746",
         "12.0",
         "F-1690253"
        ],
        [
         "44",
         "13.0",
         "8",
         "400",
         "175",
         "5140",
         "12.0",
         "P-1690264"
        ],
        [
         "45",
         "18.0",
         "6",
         "258",
         "110",
         "2962",
         "13.5",
         "A-1690275"
        ],
        [
         "46",
         "22.0",
         "4",
         "140",
         "72",
         "2408",
         "19.0",
         "C-1690286"
        ],
        [
         "47",
         "19.0",
         "6",
         "250",
         "100",
         "3282",
         "15.0",
         "P-1690297"
        ],
        [
         "48",
         "18.0",
         "6",
         "250",
         "88",
         "3139",
         "14.5",
         "F-1690308"
        ],
        [
         "49",
         "23.0",
         "4",
         "122",
         "86",
         "2220",
         "14.0",
         "M-1690319"
        ]
       ],
       "shape": {
        "columns": 7,
        "rows": 398
       }
      },
      "text/html": [
       "<div>\n",
       "<style scoped>\n",
       "    .dataframe tbody tr th:only-of-type {\n",
       "        vertical-align: middle;\n",
       "    }\n",
       "\n",
       "    .dataframe tbody tr th {\n",
       "        vertical-align: top;\n",
       "    }\n",
       "\n",
       "    .dataframe thead th {\n",
       "        text-align: right;\n",
       "    }\n",
       "</style>\n",
       "<table border=\"1\" class=\"dataframe\">\n",
       "  <thead>\n",
       "    <tr style=\"text-align: right;\">\n",
       "      <th></th>\n",
       "      <th>mpg</th>\n",
       "      <th>cylinders</th>\n",
       "      <th>displacement</th>\n",
       "      <th>horsepower</th>\n",
       "      <th>weight</th>\n",
       "      <th>acceleration</th>\n",
       "      <th>vehicle_id</th>\n",
       "    </tr>\n",
       "  </thead>\n",
       "  <tbody>\n",
       "    <tr>\n",
       "      <th>0</th>\n",
       "      <td>18.0</td>\n",
       "      <td>8</td>\n",
       "      <td>307</td>\n",
       "      <td>130</td>\n",
       "      <td>3504</td>\n",
       "      <td>12.0</td>\n",
       "      <td>C-1689780</td>\n",
       "    </tr>\n",
       "    <tr>\n",
       "      <th>1</th>\n",
       "      <td>15.0</td>\n",
       "      <td>8</td>\n",
       "      <td>350</td>\n",
       "      <td>165</td>\n",
       "      <td>3693</td>\n",
       "      <td>11.5</td>\n",
       "      <td>B-1689791</td>\n",
       "    </tr>\n",
       "    <tr>\n",
       "      <th>2</th>\n",
       "      <td>18.0</td>\n",
       "      <td>8</td>\n",
       "      <td>318</td>\n",
       "      <td>150</td>\n",
       "      <td>3436</td>\n",
       "      <td>11.0</td>\n",
       "      <td>P-1689802</td>\n",
       "    </tr>\n",
       "    <tr>\n",
       "      <th>3</th>\n",
       "      <td>16.0</td>\n",
       "      <td>8</td>\n",
       "      <td>304</td>\n",
       "      <td>150</td>\n",
       "      <td>3433</td>\n",
       "      <td>12.0</td>\n",
       "      <td>A-1689813</td>\n",
       "    </tr>\n",
       "    <tr>\n",
       "      <th>4</th>\n",
       "      <td>17.0</td>\n",
       "      <td>8</td>\n",
       "      <td>302</td>\n",
       "      <td>140</td>\n",
       "      <td>3449</td>\n",
       "      <td>10.5</td>\n",
       "      <td>F-1689824</td>\n",
       "    </tr>\n",
       "    <tr>\n",
       "      <th>...</th>\n",
       "      <td>...</td>\n",
       "      <td>...</td>\n",
       "      <td>...</td>\n",
       "      <td>...</td>\n",
       "      <td>...</td>\n",
       "      <td>...</td>\n",
       "      <td>...</td>\n",
       "    </tr>\n",
       "    <tr>\n",
       "      <th>393</th>\n",
       "      <td>27.0</td>\n",
       "      <td>4</td>\n",
       "      <td>140</td>\n",
       "      <td>86</td>\n",
       "      <td>2790</td>\n",
       "      <td>15.6</td>\n",
       "      <td>F-1694103</td>\n",
       "    </tr>\n",
       "    <tr>\n",
       "      <th>394</th>\n",
       "      <td>44.0</td>\n",
       "      <td>4</td>\n",
       "      <td>97</td>\n",
       "      <td>52</td>\n",
       "      <td>2130</td>\n",
       "      <td>24.6</td>\n",
       "      <td>V-1694114</td>\n",
       "    </tr>\n",
       "    <tr>\n",
       "      <th>395</th>\n",
       "      <td>32.0</td>\n",
       "      <td>4</td>\n",
       "      <td>135</td>\n",
       "      <td>84</td>\n",
       "      <td>2295</td>\n",
       "      <td>11.6</td>\n",
       "      <td>D-1694125</td>\n",
       "    </tr>\n",
       "    <tr>\n",
       "      <th>396</th>\n",
       "      <td>28.0</td>\n",
       "      <td>4</td>\n",
       "      <td>120</td>\n",
       "      <td>79</td>\n",
       "      <td>2625</td>\n",
       "      <td>18.6</td>\n",
       "      <td>F-1694136</td>\n",
       "    </tr>\n",
       "    <tr>\n",
       "      <th>397</th>\n",
       "      <td>31.0</td>\n",
       "      <td>4</td>\n",
       "      <td>119</td>\n",
       "      <td>82</td>\n",
       "      <td>2720</td>\n",
       "      <td>19.4</td>\n",
       "      <td>C-1694147</td>\n",
       "    </tr>\n",
       "  </tbody>\n",
       "</table>\n",
       "<p>398 rows × 7 columns</p>\n",
       "</div>"
      ],
      "text/plain": [
       "      mpg  cylinders  displacement horsepower  weight  acceleration vehicle_id\n",
       "0    18.0          8           307        130    3504          12.0  C-1689780\n",
       "1    15.0          8           350        165    3693          11.5  B-1689791\n",
       "2    18.0          8           318        150    3436          11.0  P-1689802\n",
       "3    16.0          8           304        150    3433          12.0  A-1689813\n",
       "4    17.0          8           302        140    3449          10.5  F-1689824\n",
       "..    ...        ...           ...        ...     ...           ...        ...\n",
       "393  27.0          4           140         86    2790          15.6  F-1694103\n",
       "394  44.0          4            97         52    2130          24.6  V-1694114\n",
       "395  32.0          4           135         84    2295          11.6  D-1694125\n",
       "396  28.0          4           120         79    2625          18.6  F-1694136\n",
       "397  31.0          4           119         82    2720          19.4  C-1694147\n",
       "\n",
       "[398 rows x 7 columns]"
      ]
     },
     "execution_count": 7,
     "metadata": {},
     "output_type": "execute_result"
    }
   ],
   "source": [
    "carfeatures"
   ]
  },
  {
   "cell_type": "markdown",
   "id": "dc44b3e9",
   "metadata": {},
   "source": [
    "## <span style=\"color:red\"> III. Extract column/variable names </span>\n",
    "\n",
    "<font size = \"4\">\n",
    "\n",
    "In Homework #2, you manually created a list of column names. Pandas can do that for you"
   ]
  },
  {
   "cell_type": "code",
   "execution_count": 8,
   "id": "d63088bb",
   "metadata": {},
   "outputs": [
    {
     "name": "stdout",
     "output_type": "stream",
     "text": [
      "['mpg' 'cylinders' 'displacement' 'horsepower' 'weight' 'acceleration'\n",
      " 'vehicle_id']\n",
      "<class 'numpy.ndarray'>\n",
      "<class 'str'>\n"
     ]
    }
   ],
   "source": [
    "car_colnames = carfeatures.columns.values\n",
    "print(car_colnames)\n",
    "\n",
    "# Is this a list? A Numpy array? Are you checking what objects are, or just coding \n",
    "# with reckless abandon?\n",
    "\n",
    "print(type(car_colnames))\n",
    "print(type(car_colnames[0]))"
   ]
  },
  {
   "cell_type": "code",
   "execution_count": 9,
   "id": "c9d55655",
   "metadata": {},
   "outputs": [
    {
     "name": "stdout",
     "output_type": "stream",
     "text": [
      "0      18.0\n",
      "1      15.0\n",
      "2      18.0\n",
      "3      16.0\n",
      "4      17.0\n",
      "       ... \n",
      "393    27.0\n",
      "394    44.0\n",
      "395    32.0\n",
      "396    28.0\n",
      "397    31.0\n",
      "Name: mpg, Length: 398, dtype: float64\n",
      "0      18.0\n",
      "1      15.0\n",
      "2      18.0\n",
      "3      16.0\n",
      "4      17.0\n",
      "       ... \n",
      "393    27.0\n",
      "394    44.0\n",
      "395    32.0\n",
      "396    28.0\n",
      "397    31.0\n",
      "Name: mpg, Length: 398, dtype: float64\n"
     ]
    }
   ],
   "source": [
    "# Just like HW #2, we can use car_colnames to grab columns from the dataset\n",
    "\n",
    "# manually..\n",
    "mpg = carfeatures[\"mpg\"]\n",
    "\n",
    "# using car_colnames\n",
    "mpg_alt = carfeatures[car_colnames[0]]\n",
    "print(mpg)\n",
    "print(mpg_alt)"
   ]
  },
  {
   "cell_type": "code",
   "execution_count": 10,
   "id": "95df9aa5",
   "metadata": {},
   "outputs": [
    {
     "name": "stdout",
     "output_type": "stream",
     "text": [
      "<class 'pandas.core.series.Series'>\n"
     ]
    }
   ],
   "source": [
    "# Did you check the TYPE ?!\n",
    "print(type(mpg))"
   ]
  },
  {
   "cell_type": "markdown",
   "id": "8162d7d5",
   "metadata": {},
   "source": [
    "<font size = \"4\">\n",
    "\n",
    "Grab multiple variables"
   ]
  },
  {
   "cell_type": "code",
   "execution_count": 11,
   "id": "be441197",
   "metadata": {},
   "outputs": [
    {
     "name": "stdout",
     "output_type": "stream",
     "text": [
      "<class 'pandas.core.frame.DataFrame'>\n",
      "     weight   mpg\n",
      "0      3504  18.0\n",
      "1      3693  15.0\n",
      "2      3436  18.0\n",
      "3      3433  16.0\n",
      "4      3449  17.0\n",
      "..      ...   ...\n",
      "393    2790  27.0\n",
      "394    2130  44.0\n",
      "395    2295  32.0\n",
      "396    2625  28.0\n",
      "397    2720  31.0\n",
      "\n",
      "[398 rows x 2 columns]\n"
     ]
    }
   ],
   "source": [
    "list_subsetcols = [\"weight\",\"mpg\"]\n",
    "subcols_carfeatures = carfeatures[list_subsetcols]\n",
    "\n",
    "print(type(subcols_carfeatures))\n",
    "print(subcols_carfeatures)\n",
    "\n"
   ]
  },
  {
   "cell_type": "code",
   "execution_count": 12,
   "id": "d10fdf51",
   "metadata": {},
   "outputs": [
    {
     "name": "stdout",
     "output_type": "stream",
     "text": [
      "     weight   mpg\n",
      "0      3504  18.0\n",
      "1      3693  15.0\n",
      "2      3436  18.0\n",
      "3      3433  16.0\n",
      "4      3449  17.0\n",
      "..      ...   ...\n",
      "393    2790  27.0\n",
      "394    2130  44.0\n",
      "395    2295  32.0\n",
      "396    2625  28.0\n",
      "397    2720  31.0\n",
      "\n",
      "[398 rows x 2 columns]\n"
     ]
    }
   ],
   "source": [
    "\n",
    "# list_subsetcols = [\"weight\",\"mpg\"] # created a variable list_subsetcols...\n",
    "# subcols_carfeatures = carfeatures[list_subsetcols] # ...just to place it within the brackets\n",
    "\n",
    "# skip the intermediate variable\n",
    "subcols_carfeatures = carfeatures[[\"weight\", \"mpg\"]]\n",
    "print(subcols_carfeatures)\n"
   ]
  },
  {
   "cell_type": "code",
   "execution_count": 13,
   "id": "d95a16bf",
   "metadata": {},
   "outputs": [
    {
     "name": "stdout",
     "output_type": "stream",
     "text": [
      "weight\n",
      "mpg\n"
     ]
    }
   ],
   "source": [
    "print(car_colnames[4])\n",
    "print(car_colnames[0])"
   ]
  },
  {
   "cell_type": "code",
   "execution_count": 14,
   "id": "966a5b5e",
   "metadata": {},
   "outputs": [
    {
     "name": "stdout",
     "output_type": "stream",
     "text": [
      "     weight   mpg\n",
      "0      3504  18.0\n",
      "1      3693  15.0\n",
      "2      3436  18.0\n",
      "3      3433  16.0\n",
      "4      3449  17.0\n",
      "..      ...   ...\n",
      "393    2790  27.0\n",
      "394    2130  44.0\n",
      "395    2295  32.0\n",
      "396    2625  28.0\n",
      "397    2720  31.0\n",
      "\n",
      "[398 rows x 2 columns]\n"
     ]
    }
   ],
   "source": [
    "# Use car_colnames plus the indices 4, 0\n",
    "list_subsetcols = [car_colnames[4], car_colnames[0]]\n",
    "subcols_carfeatures = carfeatures[list_subsetcols]\n",
    "print(subcols_carfeatures)\n",
    "\n"
   ]
  },
  {
   "cell_type": "markdown",
   "id": "6696efa1",
   "metadata": {},
   "source": [
    "<font size = \"4\">\n",
    "\n",
    "**Exercise**: Extract the weight and acceleration variables\n",
    "\n",
    "**Exercise**: Extract the displacement, horsepower, and vehicle_id variables"
   ]
  },
  {
   "cell_type": "code",
   "execution_count": 20,
   "id": "651f40b9",
   "metadata": {},
   "outputs": [
    {
     "name": "stdout",
     "output_type": "stream",
     "text": [
      "0      3504\n",
      "1      3693\n",
      "2      3436\n",
      "3      3433\n",
      "4      3449\n",
      "       ... \n",
      "393    2790\n",
      "394    2130\n",
      "395    2295\n",
      "396    2625\n",
      "397    2720\n",
      "Name: weight, Length: 398, dtype: int64\n",
      "0      C-1689780\n",
      "1      B-1689791\n",
      "2      P-1689802\n",
      "3      A-1689813\n",
      "4      F-1689824\n",
      "         ...    \n",
      "393    F-1694103\n",
      "394    V-1694114\n",
      "395    D-1694125\n",
      "396    F-1694136\n",
      "397    C-1694147\n",
      "Name: vehicle_id, Length: 398, dtype: object\n",
      "0      8\n",
      "1      8\n",
      "2      8\n",
      "3      8\n",
      "4      8\n",
      "      ..\n",
      "393    4\n",
      "394    4\n",
      "395    4\n",
      "396    4\n",
      "397    4\n",
      "Name: cylinders, Length: 398, dtype: int64\n",
      "0      307\n",
      "1      350\n",
      "2      318\n",
      "3      304\n",
      "4      302\n",
      "      ... \n",
      "393    140\n",
      "394     97\n",
      "395    135\n",
      "396    120\n",
      "397    119\n",
      "Name: displacement, Length: 398, dtype: int64\n",
      "0      C-1689780\n",
      "1      B-1689791\n",
      "2      P-1689802\n",
      "3      A-1689813\n",
      "4      F-1689824\n",
      "         ...    \n",
      "393    F-1694103\n",
      "394    V-1694114\n",
      "395    D-1694125\n",
      "396    F-1694136\n",
      "397    C-1694147\n",
      "Name: vehicle_id, Length: 398, dtype: object\n"
     ]
    }
   ],
   "source": [
    "# try yourself (will add the solution later)\n",
    "weight = carfeatures[car_colnames[4]]\n",
    "print(weight)\n",
    "acceleration = carfeatures[car_colnames[6]]\n",
    "print(acceleration)\n",
    "displacement = carfeatures[car_colnames[1]]\n",
    "print(displacement)\n",
    "horsepower = carfeatures[car_colnames[2]]\n",
    "print(horsepower)\n",
    "vehicle_id = carfeatures[car_colnames[6]]\n",
    "print(vehicle_id)\n"
   ]
  },
  {
   "cell_type": "markdown",
   "id": "9aeb5142",
   "metadata": {},
   "source": [
    "## <span style=\"color:red\"> IV. Sort by column/variable </span>"
   ]
  },
  {
   "cell_type": "code",
   "execution_count": 21,
   "id": "abb5913b",
   "metadata": {},
   "outputs": [
    {
     "name": "stdout",
     "output_type": "stream",
     "text": [
      "Help on method sort_values in module pandas.core.frame:\n",
      "\n",
      "sort_values(\n",
      "    by: 'IndexLabel',\n",
      "    *,\n",
      "    axis: 'Axis' = 0,\n",
      "    ascending: 'bool | list[bool] | tuple[bool, ...]' = True,\n",
      "    inplace: 'bool' = False,\n",
      "    kind: 'SortKind' = 'quicksort',\n",
      "    na_position: 'str' = 'last',\n",
      "    ignore_index: 'bool' = False,\n",
      "    key: 'ValueKeyFunc | None' = None\n",
      ") -> 'DataFrame | None' method of pandas.core.frame.DataFrame instance\n",
      "    Sort by the values along either axis.\n",
      "\n",
      "    Parameters\n",
      "    ----------\n",
      "    by : str or list of str\n",
      "        Name or list of names to sort by.\n",
      "\n",
      "        - if `axis` is 0 or `'index'` then `by` may contain index\n",
      "          levels and/or column labels.\n",
      "        - if `axis` is 1 or `'columns'` then `by` may contain column\n",
      "          levels and/or index labels.\n",
      "    axis : \"{0 or 'index', 1 or 'columns'}\", default 0\n",
      "         Axis to be sorted.\n",
      "    ascending : bool or list of bool, default True\n",
      "         Sort ascending vs. descending. Specify list for multiple sort\n",
      "         orders.  If this is a list of bools, must match the length of\n",
      "         the by.\n",
      "    inplace : bool, default False\n",
      "         If True, perform operation in-place.\n",
      "    kind : {'quicksort', 'mergesort', 'heapsort', 'stable'}, default 'quicksort'\n",
      "         Choice of sorting algorithm. See also :func:`numpy.sort` for more\n",
      "         information. `mergesort` and `stable` are the only stable algorithms. For\n",
      "         DataFrames, this option is only applied when sorting on a single\n",
      "         column or label.\n",
      "    na_position : {'first', 'last'}, default 'last'\n",
      "         Puts NaNs at the beginning if `first`; `last` puts NaNs at the\n",
      "         end.\n",
      "    ignore_index : bool, default False\n",
      "         If True, the resulting axis will be labeled 0, 1, …, n - 1.\n",
      "    key : callable, optional\n",
      "        Apply the key function to the values\n",
      "        before sorting. This is similar to the `key` argument in the\n",
      "        builtin :meth:`sorted` function, with the notable difference that\n",
      "        this `key` function should be *vectorized*. It should expect a\n",
      "        ``Series`` and return a Series with the same shape as the input.\n",
      "        It will be applied to each column in `by` independently.\n",
      "\n",
      "    Returns\n",
      "    -------\n",
      "    DataFrame or None\n",
      "        DataFrame with sorted values or None if ``inplace=True``.\n",
      "\n",
      "    See Also\n",
      "    --------\n",
      "    DataFrame.sort_index : Sort a DataFrame by the index.\n",
      "    Series.sort_values : Similar method for a Series.\n",
      "\n",
      "    Examples\n",
      "    --------\n",
      "    >>> df = pd.DataFrame({\n",
      "    ...     'col1': ['A', 'A', 'B', np.nan, 'D', 'C'],\n",
      "    ...     'col2': [2, 1, 9, 8, 7, 4],\n",
      "    ...     'col3': [0, 1, 9, 4, 2, 3],\n",
      "    ...     'col4': ['a', 'B', 'c', 'D', 'e', 'F']\n",
      "    ... })\n",
      "    >>> df\n",
      "      col1  col2  col3 col4\n",
      "    0    A     2     0    a\n",
      "    1    A     1     1    B\n",
      "    2    B     9     9    c\n",
      "    3  NaN     8     4    D\n",
      "    4    D     7     2    e\n",
      "    5    C     4     3    F\n",
      "\n",
      "    Sort by col1\n",
      "\n",
      "    >>> df.sort_values(by=['col1'])\n",
      "      col1  col2  col3 col4\n",
      "    0    A     2     0    a\n",
      "    1    A     1     1    B\n",
      "    2    B     9     9    c\n",
      "    5    C     4     3    F\n",
      "    4    D     7     2    e\n",
      "    3  NaN     8     4    D\n",
      "\n",
      "    Sort by multiple columns\n",
      "\n",
      "    >>> df.sort_values(by=['col1', 'col2'])\n",
      "      col1  col2  col3 col4\n",
      "    1    A     1     1    B\n",
      "    0    A     2     0    a\n",
      "    2    B     9     9    c\n",
      "    5    C     4     3    F\n",
      "    4    D     7     2    e\n",
      "    3  NaN     8     4    D\n",
      "\n",
      "    Sort Descending\n",
      "\n",
      "    >>> df.sort_values(by='col1', ascending=False)\n",
      "      col1  col2  col3 col4\n",
      "    4    D     7     2    e\n",
      "    5    C     4     3    F\n",
      "    2    B     9     9    c\n",
      "    0    A     2     0    a\n",
      "    1    A     1     1    B\n",
      "    3  NaN     8     4    D\n",
      "\n",
      "    Putting NAs first\n",
      "\n",
      "    >>> df.sort_values(by='col1', ascending=False, na_position='first')\n",
      "      col1  col2  col3 col4\n",
      "    3  NaN     8     4    D\n",
      "    4    D     7     2    e\n",
      "    5    C     4     3    F\n",
      "    2    B     9     9    c\n",
      "    0    A     2     0    a\n",
      "    1    A     1     1    B\n",
      "\n",
      "    Sorting with a key function\n",
      "\n",
      "    >>> df.sort_values(by='col4', key=lambda col: col.str.lower())\n",
      "       col1  col2  col3 col4\n",
      "    0    A     2     0    a\n",
      "    1    A     1     1    B\n",
      "    2    B     9     9    c\n",
      "    3  NaN     8     4    D\n",
      "    4    D     7     2    e\n",
      "    5    C     4     3    F\n",
      "\n",
      "    Natural sort with the key argument,\n",
      "    using the `natsort <https://github.com/SethMMorton/natsort>` package.\n",
      "\n",
      "    >>> df = pd.DataFrame({\n",
      "    ...    \"time\": ['0hr', '128hr', '72hr', '48hr', '96hr'],\n",
      "    ...    \"value\": [10, 20, 30, 40, 50]\n",
      "    ... })\n",
      "    >>> df\n",
      "        time  value\n",
      "    0    0hr     10\n",
      "    1  128hr     20\n",
      "    2   72hr     30\n",
      "    3   48hr     40\n",
      "    4   96hr     50\n",
      "    >>> from natsort import index_natsorted\n",
      "    >>> df.sort_values(\n",
      "    ...     by=\"time\",\n",
      "    ...     key=lambda x: np.argsort(index_natsorted(df[\"time\"]))\n",
      "    ... )\n",
      "        time  value\n",
      "    0    0hr     10\n",
      "    3   48hr     40\n",
      "    2   72hr     30\n",
      "    4   96hr     50\n",
      "    1  128hr     20\n",
      "\n"
     ]
    }
   ],
   "source": [
    "help(carfeatures.sort_values)"
   ]
  },
  {
   "cell_type": "code",
   "execution_count": 22,
   "id": "2d5ee73f",
   "metadata": {},
   "outputs": [
    {
     "name": "stdout",
     "output_type": "stream",
     "text": [
      "      mpg  cylinders  displacement horsepower  weight  acceleration vehicle_id\n",
      "28    9.0          8           304        193    4732          18.5  H-1690088\n",
      "25   10.0          8           360        215    4615          14.0  F-1690055\n",
      "26   10.0          8           307        200    4376          15.0  C-1690066\n",
      "103  11.0          8           400        150    4997          14.0  C-1690913\n",
      "124  11.0          8           350        180    3664          11.0  O-1691144\n",
      "..    ...        ...           ...        ...     ...           ...        ...\n",
      "326  43.4          4            90         48    2335          23.7  V-1693366\n",
      "394  44.0          4            97         52    2130          24.6  V-1694114\n",
      "325  44.3          4            90         48    2085          21.7  V-1693355\n",
      "329  44.6          4            91         67    1850          13.8  H-1693399\n",
      "322  46.6          4            86         65    2110          17.9  M-1693322\n",
      "\n",
      "[398 rows x 7 columns]\n"
     ]
    }
   ],
   "source": [
    "# sort the data-set by one of the variables\n",
    "carsorted = carfeatures.sort_values(by = \"mpg\")\n",
    "print(carsorted)"
   ]
  },
  {
   "cell_type": "code",
   "execution_count": 23,
   "id": "7dcc8513",
   "metadata": {},
   "outputs": [
    {
     "name": "stdout",
     "output_type": "stream",
     "text": [
      "      mpg  cylinders  displacement horsepower  weight  acceleration vehicle_id\n",
      "322  46.6          4            86         65    2110          17.9  M-1693322\n",
      "329  44.6          4            91         67    1850          13.8  H-1693399\n",
      "325  44.3          4            90         48    2085          21.7  V-1693355\n",
      "394  44.0          4            97         52    2130          24.6  V-1694114\n",
      "326  43.4          4            90         48    2335          23.7  V-1693366\n",
      "..    ...        ...           ...        ...     ...           ...        ...\n",
      "103  11.0          8           400        150    4997          14.0  C-1690913\n",
      "67   11.0          8           429        208    4633          11.0  M-1690517\n",
      "25   10.0          8           360        215    4615          14.0  F-1690055\n",
      "26   10.0          8           307        200    4376          15.0  C-1690066\n",
      "28    9.0          8           304        193    4732          18.5  H-1690088\n",
      "\n",
      "[398 rows x 7 columns]\n"
     ]
    }
   ],
   "source": [
    "# above we went from lowest mileage to highest mileage (ascending order)\n",
    "# \n",
    "# To reverse the order, pass in the argument ascending = False \n",
    "\n",
    "carsorted = carfeatures.sort_values(by = \"mpg\", ascending = False)\n",
    "print(carsorted)"
   ]
  },
  {
   "cell_type": "markdown",
   "id": "b21170b5",
   "metadata": {},
   "source": [
    "## <span style=\"color:red\"> V. Subsetting by row/column position </span>\n",
    "\n",
    "<font size = \"4\">\n",
    "\n",
    "Each DataFrame has an \"iloc\" method. This stands for \"integer-location based indexing\""
   ]
  },
  {
   "cell_type": "code",
   "execution_count": 24,
   "id": "c65af3b2",
   "metadata": {},
   "outputs": [
    {
     "name": "stdout",
     "output_type": "stream",
     "text": [
      "      mpg  cylinders  displacement horsepower  weight  acceleration vehicle_id\n",
      "0    18.0          8           307        130    3504          12.0  C-1689780\n",
      "1    15.0          8           350        165    3693          11.5  B-1689791\n",
      "2    18.0          8           318        150    3436          11.0  P-1689802\n",
      "3    16.0          8           304        150    3433          12.0  A-1689813\n",
      "4    17.0          8           302        140    3449          10.5  F-1689824\n",
      "..    ...        ...           ...        ...     ...           ...        ...\n",
      "393  27.0          4           140         86    2790          15.6  F-1694103\n",
      "394  44.0          4            97         52    2130          24.6  V-1694114\n",
      "395  32.0          4           135         84    2295          11.6  D-1694125\n",
      "396  28.0          4           120         79    2625          18.6  F-1694136\n",
      "397  31.0          4           119         82    2720          19.4  C-1694147\n",
      "\n",
      "[398 rows x 7 columns]\n"
     ]
    }
   ],
   "source": [
    "print(carfeatures)"
   ]
  },
  {
   "cell_type": "code",
   "execution_count": 25,
   "id": "c293cef3",
   "metadata": {},
   "outputs": [
    {
     "name": "stdout",
     "output_type": "stream",
     "text": [
      "18.0\n"
     ]
    }
   ],
   "source": [
    "# Above, see that car 0 has 18.0 mpg\n",
    "# The value \"18.0\" is in the first row, and corresponds to the first column\n",
    "# (the index column on the left is NOT considered a column/variable)\n",
    "\n",
    "# Since Python starts counting from zero, this is in row 0 column 0\n",
    "\n",
    "car0_mpg = carfeatures.iloc[0,0]\n",
    "print(car0_mpg)"
   ]
  },
  {
   "cell_type": "code",
   "execution_count": 26,
   "id": "66343891",
   "metadata": {},
   "outputs": [
    {
     "name": "stdout",
     "output_type": "stream",
     "text": [
      "3433\n"
     ]
    }
   ],
   "source": [
    "# Above, see that car 3 has weight of 3433\n",
    "# Counting from zero, the value \"3433\" is in\n",
    "# row 3, column\n",
    "# The value \"3433\" is in row 3, column 4\n",
    "\n",
    "car3_weight = carfeatures.iloc[3, 4]\n",
    "print(car3_weight)"
   ]
  },
  {
   "cell_type": "code",
   "execution_count": 27,
   "id": "b8c4615f",
   "metadata": {},
   "outputs": [
    {
     "name": "stdout",
     "output_type": "stream",
     "text": [
      "mpg                  18.0\n",
      "cylinders               8\n",
      "displacement          307\n",
      "horsepower            130\n",
      "weight               3504\n",
      "acceleration         12.0\n",
      "vehicle_id      C-1689780\n",
      "Name: 0, dtype: object\n",
      "<class 'pandas.core.series.Series'>\n"
     ]
    }
   ],
   "source": [
    "# Let's grab ALL features of car 0 (mpg, cylinders, displacement, ..., vehicle_id)\n",
    "\n",
    "# So we want all the entries along row zero. \n",
    "# Use a \":\" (colon) for the column index to grab ALL the columns\n",
    "\n",
    "car0_features = carfeatures.iloc[0,:]\n",
    "print(car0_features)\n",
    "print(type(car0_features))"
   ]
  },
  {
   "cell_type": "code",
   "execution_count": 28,
   "id": "b61f0d60",
   "metadata": {},
   "outputs": [
    {
     "name": "stdout",
     "output_type": "stream",
     "text": [
      "mpg                  16.0\n",
      "cylinders               8\n",
      "displacement          304\n",
      "horsepower            150\n",
      "weight               3433\n",
      "acceleration         12.0\n",
      "vehicle_id      A-1689813\n",
      "Name: 3, dtype: object\n"
     ]
    }
   ],
   "source": [
    "# Grab all columns of car 3\n",
    "car3_features = carfeatures.iloc[3,:]\n",
    "print(car3_features)"
   ]
  },
  {
   "cell_type": "code",
   "execution_count": 29,
   "id": "cdb9cc41",
   "metadata": {},
   "outputs": [
    {
     "name": "stdout",
     "output_type": "stream",
     "text": [
      "      mpg  cylinders  displacement horsepower  weight  acceleration vehicle_id\n",
      "0    18.0          8           307        130    3504          12.0  C-1689780\n",
      "1    15.0          8           350        165    3693          11.5  B-1689791\n",
      "2    18.0          8           318        150    3436          11.0  P-1689802\n",
      "3    16.0          8           304        150    3433          12.0  A-1689813\n",
      "4    17.0          8           302        140    3449          10.5  F-1689824\n",
      "..    ...        ...           ...        ...     ...           ...        ...\n",
      "393  27.0          4           140         86    2790          15.6  F-1694103\n",
      "394  44.0          4            97         52    2130          24.6  V-1694114\n",
      "395  32.0          4           135         84    2295          11.6  D-1694125\n",
      "396  28.0          4           120         79    2625          18.6  F-1694136\n",
      "397  31.0          4           119         82    2720          19.4  C-1694147\n",
      "\n",
      "[398 rows x 7 columns]\n"
     ]
    }
   ],
   "source": [
    "print(carfeatures)"
   ]
  },
  {
   "cell_type": "code",
   "execution_count": 30,
   "id": "23f3a2a1",
   "metadata": {},
   "outputs": [
    {
     "name": "stdout",
     "output_type": "stream",
     "text": [
      "0      18.0\n",
      "1      15.0\n",
      "2      18.0\n",
      "3      16.0\n",
      "4      17.0\n",
      "       ... \n",
      "393    27.0\n",
      "394    44.0\n",
      "395    32.0\n",
      "396    28.0\n",
      "397    31.0\n",
      "Name: mpg, Length: 398, dtype: float64\n"
     ]
    }
   ],
   "source": [
    "# Column 0 corresponds to \"mpg\" (the index column on the far left doesn't count)\n",
    "\n",
    "# Grab the entire column 0, which means grabbing ALL the rows\n",
    "\n",
    "car_mpg = carfeatures.iloc[:, 0]\n",
    "print(car_mpg)\n"
   ]
  },
  {
   "cell_type": "code",
   "execution_count": 31,
   "id": "b989a216",
   "metadata": {},
   "outputs": [
    {
     "data": {
      "application/vnd.microsoft.datawrangler.viewer.v0+json": {
       "columns": [
        {
         "name": "index",
         "rawType": "int64",
         "type": "integer"
        },
        {
         "name": "horsepower",
         "rawType": "object",
         "type": "unknown"
        }
       ],
       "ref": "93612c44-8cd4-4108-a6ae-4ee69d415287",
       "rows": [
        [
         "0",
         "130"
        ],
        [
         "1",
         "165"
        ],
        [
         "2",
         "150"
        ],
        [
         "3",
         "150"
        ],
        [
         "4",
         "140"
        ],
        [
         "5",
         "198"
        ],
        [
         "6",
         "220"
        ],
        [
         "7",
         "215"
        ],
        [
         "8",
         "225"
        ],
        [
         "9",
         "190"
        ],
        [
         "10",
         "170"
        ],
        [
         "11",
         "160"
        ],
        [
         "12",
         "150"
        ],
        [
         "13",
         "225"
        ],
        [
         "14",
         "95"
        ],
        [
         "15",
         "95"
        ],
        [
         "16",
         "97"
        ],
        [
         "17",
         "85"
        ],
        [
         "18",
         "88"
        ],
        [
         "19",
         "46"
        ],
        [
         "20",
         "87"
        ],
        [
         "21",
         "90"
        ],
        [
         "22",
         "95"
        ],
        [
         "23",
         "113"
        ],
        [
         "24",
         "90"
        ],
        [
         "25",
         "215"
        ],
        [
         "26",
         "200"
        ],
        [
         "27",
         "210"
        ],
        [
         "28",
         "193"
        ],
        [
         "29",
         "88"
        ],
        [
         "30",
         "90"
        ],
        [
         "31",
         "95"
        ],
        [
         "32",
         null
        ],
        [
         "33",
         "100"
        ],
        [
         "34",
         "105"
        ],
        [
         "35",
         "100"
        ],
        [
         "36",
         "88"
        ],
        [
         "37",
         "100"
        ],
        [
         "38",
         "165"
        ],
        [
         "39",
         "175"
        ],
        [
         "40",
         "153"
        ],
        [
         "41",
         "150"
        ],
        [
         "42",
         "180"
        ],
        [
         "43",
         "170"
        ],
        [
         "44",
         "175"
        ],
        [
         "45",
         "110"
        ],
        [
         "46",
         "72"
        ],
        [
         "47",
         "100"
        ],
        [
         "48",
         "88"
        ],
        [
         "49",
         "86"
        ]
       ],
       "shape": {
        "columns": 1,
        "rows": 398
       }
      },
      "text/plain": [
       "0      130\n",
       "1      165\n",
       "2      150\n",
       "3      150\n",
       "4      140\n",
       "      ... \n",
       "393     86\n",
       "394     52\n",
       "395     84\n",
       "396     79\n",
       "397     82\n",
       "Name: horsepower, Length: 398, dtype: object"
      ]
     },
     "execution_count": 31,
     "metadata": {},
     "output_type": "execute_result"
    }
   ],
   "source": [
    "# horsepower is column 3\n",
    "# grab ALL rows of column 3\n",
    "\n",
    "car_horsepower = carfeatures.iloc[:, 3]\n",
    "car_horsepower"
   ]
  },
  {
   "cell_type": "code",
   "execution_count": 32,
   "id": "4ffaae12",
   "metadata": {},
   "outputs": [
    {
     "name": "stdout",
     "output_type": "stream",
     "text": [
      "      mpg  cylinders  displacement horsepower  weight  acceleration vehicle_id\n",
      "0    18.0          8           307        130    3504          12.0  C-1689780\n",
      "4    17.0          8           302        140    3449          10.5  F-1689824\n",
      "396  28.0          4           120         79    2625          18.6  F-1694136\n",
      "<class 'pandas.core.frame.DataFrame'>\n"
     ]
    }
   ],
   "source": [
    "# Grab all features for cars 0, 4, 396 (so rows 0, 4, 396)\n",
    "\n",
    "cargroup_features = carfeatures.iloc[ [0, 4, 396], : ]\n",
    "print(cargroup_features)\n",
    "print(type(cargroup_features))"
   ]
  },
  {
   "cell_type": "code",
   "execution_count": 33,
   "id": "d848ea8a",
   "metadata": {},
   "outputs": [
    {
     "name": "stdout",
     "output_type": "stream",
     "text": [
      "      mpg  cylinders  displacement horsepower  weight  acceleration vehicle_id\n",
      "0    18.0          8           307        130    3504          12.0  C-1689780\n",
      "4    17.0          8           302        140    3449          10.5  F-1689824\n",
      "396  28.0          4           120         79    2625          18.6  F-1694136\n"
     ]
    }
   ],
   "source": [
    "# Grab all features for cars 0, 4, 396 (so rows 0, 4, 396)\n",
    "\n",
    "group_rows = [0, 4, 396]\n",
    "cargroup_features = carfeatures.iloc[ group_rows, : ]\n",
    "print(cargroup_features)"
   ]
  },
  {
   "cell_type": "code",
   "execution_count": 34,
   "id": "42840ee5",
   "metadata": {},
   "outputs": [
    {
     "name": "stdout",
     "output_type": "stream",
     "text": [
      "      mpg  weight vehicle_id\n",
      "0    18.0    3504  C-1689780\n",
      "1    15.0    3693  B-1689791\n",
      "2    18.0    3436  P-1689802\n",
      "3    16.0    3433  A-1689813\n",
      "4    17.0    3449  F-1689824\n",
      "..    ...     ...        ...\n",
      "393  27.0    2790  F-1694103\n",
      "394  44.0    2130  V-1694114\n",
      "395  32.0    2295  D-1694125\n",
      "396  28.0    2625  F-1694136\n",
      "397  31.0    2720  C-1694147\n",
      "\n",
      "[398 rows x 3 columns]\n"
     ]
    }
   ],
   "source": [
    "# Grab mpg, weight, vehicle_id for ALL cars (columns 0, 4, 6)\n",
    "\n",
    "subfeatures = carfeatures.iloc[ : , [0, 4, 6] ]\n",
    "print(subfeatures)"
   ]
  },
  {
   "cell_type": "code",
   "execution_count": 35,
   "id": "f1ae3e7a",
   "metadata": {},
   "outputs": [
    {
     "name": "stdout",
     "output_type": "stream",
     "text": [
      "      mpg  weight vehicle_id\n",
      "0    18.0    3504  C-1689780\n",
      "1    15.0    3693  B-1689791\n",
      "2    18.0    3436  P-1689802\n",
      "3    16.0    3433  A-1689813\n",
      "4    17.0    3449  F-1689824\n",
      "..    ...     ...        ...\n",
      "393  27.0    2790  F-1694103\n",
      "394  44.0    2130  V-1694114\n",
      "395  32.0    2295  D-1694125\n",
      "396  28.0    2625  F-1694136\n",
      "397  31.0    2720  C-1694147\n",
      "\n",
      "[398 rows x 3 columns]\n"
     ]
    }
   ],
   "source": [
    "# Grab mpg, weight, vehicle_id for ALL cars (columns 0, 4, 6)\n",
    "\n",
    "sub_cols = [0, 4, 6]\n",
    "subfeatures = carfeatures.iloc[ : , sub_cols]\n",
    "print(subfeatures)"
   ]
  },
  {
   "cell_type": "code",
   "execution_count": 36,
   "id": "d01204d7",
   "metadata": {},
   "outputs": [
    {
     "name": "stdout",
     "output_type": "stream",
     "text": [
      "      mpg  weight vehicle_id\n",
      "0    18.0    3504  C-1689780\n",
      "4    17.0    3449  F-1689824\n",
      "396  28.0    2625  F-1694136\n"
     ]
    }
   ],
   "source": [
    "# Grab mpg, weight, vehicle_id for cars 0, 4, 396\n",
    "# So we need rows 0, 4, 396\n",
    "# and columns 0, 4, 6\n",
    "\n",
    "subdata = carfeatures.iloc[ [0, 4, 396], [0, 4, 6] ]\n",
    "print(subdata)"
   ]
  },
  {
   "cell_type": "markdown",
   "id": "26a7baed",
   "metadata": {},
   "source": [
    "### Subsetting blocks of rows"
   ]
  },
  {
   "cell_type": "code",
   "execution_count": 37,
   "id": "6da88f3f",
   "metadata": {},
   "outputs": [
    {
     "name": "stdout",
     "output_type": "stream",
     "text": [
      "    mpg  cylinders  displacement horsepower  weight  acceleration vehicle_id\n",
      "0  18.0          8           307        130    3504          12.0  C-1689780\n",
      "1  15.0          8           350        165    3693          11.5  B-1689791\n",
      "2  18.0          8           318        150    3436          11.0  P-1689802\n",
      "3  16.0          8           304        150    3433          12.0  A-1689813\n",
      "4  17.0          8           302        140    3449          10.5  F-1689824\n"
     ]
    }
   ],
   "source": [
    "# let's grab all features for the first 5 cars\n",
    "# (rows 0, 1, 2, 3, 4)\n",
    "\n",
    "first_5_cars = carfeatures.iloc[ :5, :]\n",
    "print(first_5_cars)"
   ]
  },
  {
   "cell_type": "code",
   "execution_count": 38,
   "id": "31206be8",
   "metadata": {},
   "outputs": [
    {
     "name": "stdout",
     "output_type": "stream",
     "text": [
      "    mpg  cylinders  displacement horsepower  weight  acceleration vehicle_id\n",
      "0  18.0          8           307        130    3504          12.0  C-1689780\n",
      "1  15.0          8           350        165    3693          11.5  B-1689791\n",
      "2  18.0          8           318        150    3436          11.0  P-1689802\n",
      "3  16.0          8           304        150    3433          12.0  A-1689813\n",
      "4  17.0          8           302        140    3449          10.5  F-1689824\n"
     ]
    }
   ],
   "source": [
    "# let's grab all features for the first 5 cars\n",
    "# (rows 0, 1, 2, 3, 4)\n",
    "\n",
    "# we start with row 0\n",
    "# the first row we *exclude* is row 5\n",
    "first_5_cars = carfeatures.iloc[ 0:5, :]\n",
    "print(first_5_cars)"
   ]
  },
  {
   "cell_type": "code",
   "execution_count": 39,
   "id": "43c374c7",
   "metadata": {},
   "outputs": [
    {
     "name": "stdout",
     "output_type": "stream",
     "text": [
      "    mpg  cylinders  displacement horsepower  weight  acceleration vehicle_id\n",
      "1  15.0          8           350        165    3693          11.5  B-1689791\n",
      "2  18.0          8           318        150    3436          11.0  P-1689802\n",
      "3  16.0          8           304        150    3433          12.0  A-1689813\n",
      "4  17.0          8           302        140    3449          10.5  F-1689824\n",
      "5  15.0          8           429        198    4341          10.0  F-1689835\n"
     ]
    }
   ],
   "source": [
    "# if we shift the indices by 1\n",
    "# (change 0:5 --> 1:6)\n",
    "# Then we will grab rows (1,2,3,4,5)\n",
    "\n",
    "cars_1_thru_5 = carfeatures.iloc[ 1:6, :]\n",
    "\n",
    "# we start with row 1\n",
    "# the first row we *exclude* is row 6\n",
    "\n",
    "print(cars_1_thru_5)"
   ]
  },
  {
   "cell_type": "markdown",
   "id": "00bc60d3",
   "metadata": {},
   "source": [
    "<font size = \"4\">\n",
    "\n",
    "Works similarly for blocks of columns, or blocks of both rows and columns\n",
    "\n",
    "**Exercise:** Extract the columns corresponding to displacement, horsepower, and weight for all cars using ``.iloc``. The column indices should be of the form ``start:stop`` for appropriate integers ``start`` and ``stop``\n",
    "\n",
    "**Exercise:** Extract the weight, acceleration, and vehicle_id information for cars 28, 29, 30, 31, 32 using \":\" for both row and column indices"
   ]
  },
  {
   "cell_type": "code",
   "execution_count": 52,
   "id": "7656c759",
   "metadata": {},
   "outputs": [
    {
     "name": "stdout",
     "output_type": "stream",
     "text": [
      "0      307\n",
      "1      350\n",
      "2      318\n",
      "3      304\n",
      "4      302\n",
      "      ... \n",
      "393    140\n",
      "394     97\n",
      "395    135\n",
      "396    120\n",
      "397    119\n",
      "Name: displacement, Length: 398, dtype: int64\n",
      "0      130\n",
      "1      165\n",
      "2      150\n",
      "3      150\n",
      "4      140\n",
      "      ... \n",
      "393     86\n",
      "394     52\n",
      "395     84\n",
      "396     79\n",
      "397     82\n",
      "Name: horsepower, Length: 398, dtype: object\n",
      "0      3504\n",
      "1      3693\n",
      "2      3436\n",
      "3      3433\n",
      "4      3449\n",
      "       ... \n",
      "393    2790\n",
      "394    2130\n",
      "395    2295\n",
      "396    2625\n",
      "397    2720\n",
      "Name: weight, Length: 398, dtype: int64\n",
      "     mpg  cylinders  displacement horsepower  weight  acceleration vehicle_id\n",
      "28   9.0          8           304        193    4732          18.5  H-1690088\n",
      "29  27.0          4            97         88    2130          14.5  D-1690099\n",
      "30  28.0          4           140         90    2264          15.5  C-1690110\n",
      "31  25.0          4           113         95    2228          14.0  T-1690121\n",
      "32  25.0          4            98        NaN    2046          19.0  F-1690132\n"
     ]
    }
   ],
   "source": [
    "## your answer here\n",
    "car_displacement = carfeatures.iloc[:, 2]\n",
    "print(car_displacement)\n",
    "car_horsepower = carfeatures.iloc[:, 3]\n",
    "print(car_horsepower)\n",
    "car_weight = carfeatures.iloc[:, 4]\n",
    "print(car_weight)\n",
    "cargroup_features = carfeatures.iloc[ [28, 29, 30, 31, 32], : ]\n",
    "print(cargroup_features)\n",
    "\n"
   ]
  },
  {
   "cell_type": "markdown",
   "id": "bbe99918",
   "metadata": {},
   "source": [
    "<font size = \"4\">\n",
    "\n",
    "**Exercise:** Create a dataset ``car_ascendingweight`` which sorts the cars from lowest to highest weight. Then extract the subset of the data corresponding to the 5 cars with the lowest weight (all their features, not just their weight)"
   ]
  },
  {
   "cell_type": "code",
   "execution_count": 55,
   "id": "30e6bfc9",
   "metadata": {},
   "outputs": [
    {
     "name": "stdout",
     "output_type": "stream",
     "text": [
      "      mpg  cylinders  displacement horsepower  weight  acceleration vehicle_id\n",
      "393  27.0          4           140         86    2790          15.6  F-1694103\n",
      "394  44.0          4            97         52    2130          24.6  V-1694114\n",
      "395  32.0          4           135         84    2295          11.6  D-1694125\n",
      "396  28.0          4           120         79    2625          18.6  F-1694136\n",
      "397  31.0          4           119         82    2720          19.4  C-1694147\n"
     ]
    }
   ],
   "source": [
    "# your answer here\n",
    "car_ascendingweight = carfeatures.sort_values(by = \"weight\", ascending = True)\n",
    "last_5_cars = carfeatures.iloc[-5:, :]\n",
    "print(last_5_cars)\n"
   ]
  },
  {
   "cell_type": "markdown",
   "id": "ecf26480",
   "metadata": {},
   "source": [
    "## <span style=\"color:red\"> VI. Filtering Dataframes Based on Logical Expressions </span>"
   ]
  },
  {
   "cell_type": "markdown",
   "id": "27820c4a",
   "metadata": {},
   "source": [
    "<font size = \"4\">\n",
    "\n",
    "(i) Filtering using ```pandas.query()``` \n",
    "\n",
    "```python\n",
    "data.query(\"logical expression\")\n",
    "```"
   ]
  },
  {
   "cell_type": "code",
   "execution_count": 56,
   "id": "0a496ad5",
   "metadata": {},
   "outputs": [
    {
     "name": "stdout",
     "output_type": "stream",
     "text": [
      "      mpg  cylinders  displacement horsepower  weight  acceleration vehicle_id\n",
      "18   27.0          4            97         88    2130          14.5  D-1689978\n",
      "19   26.0          4            97         46    1835          20.5  V-1689989\n",
      "20   25.0          4           110         87    2672          17.5  P-1690000\n",
      "22   25.0          4           104         95    2375          17.5  S-1690022\n",
      "23   26.0          4           121        113    2234          12.5  B-1690033\n",
      "..    ...        ...           ...        ...     ...           ...        ...\n",
      "393  27.0          4           140         86    2790          15.6  F-1694103\n",
      "394  44.0          4            97         52    2130          24.6  V-1694114\n",
      "395  32.0          4           135         84    2295          11.6  D-1694125\n",
      "396  28.0          4           120         79    2625          18.6  F-1694136\n",
      "397  31.0          4           119         82    2720          19.4  C-1694147\n",
      "\n",
      "[169 rows x 7 columns]\n"
     ]
    }
   ],
   "source": [
    "high_mileagecars = carfeatures.query(\"mpg >= 25\")\n",
    "print(high_mileagecars)"
   ]
  },
  {
   "cell_type": "code",
   "execution_count": 57,
   "id": "6df53e1a",
   "metadata": {},
   "outputs": [
    {
     "name": "stdout",
     "output_type": "stream",
     "text": [
      "      mpg  cylinders  displacement horsepower  weight  acceleration vehicle_id\n",
      "0    18.0          8           307        130    3504          12.0  C-1689780\n",
      "3    16.0          8           304        150    3433          12.0  A-1689813\n",
      "14   24.0          4           113         95    2372          15.0  T-1689934\n",
      "15   22.0          6           198         95    2833          15.5  P-1689945\n",
      "16   18.0          6           199         97    2774          15.5  A-1689956\n",
      "..    ...        ...           ...        ...     ...           ...        ...\n",
      "389  22.0          6           232        112    2835          14.7  F-1694059\n",
      "390  32.0          4           144         96    2665          13.9  T-1694070\n",
      "391  36.0          4           135         84    2370          13.0  D-1694081\n",
      "392  27.0          4           151         90    2950          17.3  C-1694092\n",
      "393  27.0          4           140         86    2790          15.6  F-1694103\n",
      "\n",
      "[290 rows x 7 columns]\n"
     ]
    }
   ],
   "source": [
    "# Use \"and\" / \"or\" for logical operations on queries\n",
    "\n",
    "car_subset = carfeatures.query(\"(acceleration >= 12) and (acceleration < 18)\")\n",
    "print(car_subset)"
   ]
  },
  {
   "cell_type": "markdown",
   "id": "00dd275f",
   "metadata": {},
   "source": [
    "<font size = \"4\">\n",
    "\n",
    "(ii) Expressions with colnames + global variables (@)"
   ]
  },
  {
   "cell_type": "code",
   "execution_count": 58,
   "id": "e0d35e3a",
   "metadata": {},
   "outputs": [
    {
     "name": "stdout",
     "output_type": "stream",
     "text": [
      "      mpg  cylinders  displacement horsepower  weight  acceleration vehicle_id\n",
      "18   27.0          4            97         88    2130          14.5  D-1689978\n",
      "19   26.0          4            97         46    1835          20.5  V-1689989\n",
      "20   25.0          4           110         87    2672          17.5  P-1690000\n",
      "22   25.0          4           104         95    2375          17.5  S-1690022\n",
      "23   26.0          4           121        113    2234          12.5  B-1690033\n",
      "..    ...        ...           ...        ...     ...           ...        ...\n",
      "393  27.0          4           140         86    2790          15.6  F-1694103\n",
      "394  44.0          4            97         52    2130          24.6  V-1694114\n",
      "395  32.0          4           135         84    2295          11.6  D-1694125\n",
      "396  28.0          4           120         79    2625          18.6  F-1694136\n",
      "397  31.0          4           119         82    2720          19.4  C-1694147\n",
      "\n",
      "[169 rows x 7 columns]\n"
     ]
    }
   ],
   "source": [
    "# You can invoke global variables into the query by using @variablename\n",
    "# If you don't include @, then Python will try to look for a column with \n",
    "# that name.\n",
    "\n",
    "threshold = 25\n",
    "high_mileagecars = carfeatures.query(\"mpg >= @threshold\")\n",
    "print(high_mileagecars)"
   ]
  },
  {
   "cell_type": "code",
   "execution_count": 59,
   "id": "e215e8ac",
   "metadata": {},
   "outputs": [
    {
     "name": "stdout",
     "output_type": "stream",
     "text": [
      "      mpg  cylinders  displacement horsepower  weight  acceleration vehicle_id\n",
      "0    18.0          8           307        130    3504          12.0  C-1689780\n",
      "3    16.0          8           304        150    3433          12.0  A-1689813\n",
      "14   24.0          4           113         95    2372          15.0  T-1689934\n",
      "15   22.0          6           198         95    2833          15.5  P-1689945\n",
      "16   18.0          6           199         97    2774          15.5  A-1689956\n",
      "..    ...        ...           ...        ...     ...           ...        ...\n",
      "389  22.0          6           232        112    2835          14.7  F-1694059\n",
      "390  32.0          4           144         96    2665          13.9  T-1694070\n",
      "391  36.0          4           135         84    2370          13.0  D-1694081\n",
      "392  27.0          4           151         90    2950          17.3  C-1694092\n",
      "393  27.0          4           140         86    2790          15.6  F-1694103\n",
      "\n",
      "[290 rows x 7 columns]\n"
     ]
    }
   ],
   "source": [
    "lb = 12\n",
    "ub = 18\n",
    "\n",
    "car_subset = carfeatures.query(\"(acceleration >= @lb) and (acceleration < @ub)\")\n",
    "print(car_subset)"
   ]
  },
  {
   "cell_type": "markdown",
   "id": "75e8d70a",
   "metadata": {},
   "source": [
    "<font size = \"4\">\n",
    "\n",
    "(iii) Handling white space\n",
    "\n",
    "Ever wonder why I give folders names like \"Lecture_11\" instead of \"Lecture 11\"? Or name notebooks things like \"Lecture9.ipynb\" instead of \"Lecture 9.ipynb\"?\n",
    "\n",
    "Because handling white spaces on a computer can be annoying in certain situations, as we will see here:"
   ]
  },
  {
   "cell_type": "code",
   "execution_count": 60,
   "id": "fef2a694",
   "metadata": {},
   "outputs": [
    {
     "ename": "FileNotFoundError",
     "evalue": "[Errno 2] No such file or directory: 'data_raw/subfolder1/annoying_subfolder/features-bad-spacing.csv'",
     "output_type": "error",
     "traceback": [
      "\u001b[0;31m---------------------------------------------------------------------------\u001b[0m",
      "\u001b[0;31mFileNotFoundError\u001b[0m                         Traceback (most recent call last)",
      "Cell \u001b[0;32mIn[60], line 3\u001b[0m\n\u001b[1;32m      1\u001b[0m \u001b[38;5;66;03m# same data set, but column/variable 0 is \"miles per gallon\" instead of \"mpg\"\u001b[39;00m\n\u001b[0;32m----> 3\u001b[0m new_dset \u001b[38;5;241m=\u001b[39m pd\u001b[38;5;241m.\u001b[39mread_csv(\u001b[38;5;124m\"\u001b[39m\u001b[38;5;124mdata_raw/subfolder1/annoying_subfolder/features-bad-spacing.csv\u001b[39m\u001b[38;5;124m\"\u001b[39m)\n\u001b[1;32m      4\u001b[0m \u001b[38;5;28mprint\u001b[39m(new_dset)\n",
      "File \u001b[0;32m/opt/anaconda3/lib/python3.13/site-packages/pandas/io/parsers/readers.py:1026\u001b[0m, in \u001b[0;36mread_csv\u001b[0;34m(filepath_or_buffer, sep, delimiter, header, names, index_col, usecols, dtype, engine, converters, true_values, false_values, skipinitialspace, skiprows, skipfooter, nrows, na_values, keep_default_na, na_filter, verbose, skip_blank_lines, parse_dates, infer_datetime_format, keep_date_col, date_parser, date_format, dayfirst, cache_dates, iterator, chunksize, compression, thousands, decimal, lineterminator, quotechar, quoting, doublequote, escapechar, comment, encoding, encoding_errors, dialect, on_bad_lines, delim_whitespace, low_memory, memory_map, float_precision, storage_options, dtype_backend)\u001b[0m\n\u001b[1;32m   1013\u001b[0m kwds_defaults \u001b[38;5;241m=\u001b[39m _refine_defaults_read(\n\u001b[1;32m   1014\u001b[0m     dialect,\n\u001b[1;32m   1015\u001b[0m     delimiter,\n\u001b[0;32m   (...)\u001b[0m\n\u001b[1;32m   1022\u001b[0m     dtype_backend\u001b[38;5;241m=\u001b[39mdtype_backend,\n\u001b[1;32m   1023\u001b[0m )\n\u001b[1;32m   1024\u001b[0m kwds\u001b[38;5;241m.\u001b[39mupdate(kwds_defaults)\n\u001b[0;32m-> 1026\u001b[0m \u001b[38;5;28;01mreturn\u001b[39;00m _read(filepath_or_buffer, kwds)\n",
      "File \u001b[0;32m/opt/anaconda3/lib/python3.13/site-packages/pandas/io/parsers/readers.py:620\u001b[0m, in \u001b[0;36m_read\u001b[0;34m(filepath_or_buffer, kwds)\u001b[0m\n\u001b[1;32m    617\u001b[0m _validate_names(kwds\u001b[38;5;241m.\u001b[39mget(\u001b[38;5;124m\"\u001b[39m\u001b[38;5;124mnames\u001b[39m\u001b[38;5;124m\"\u001b[39m, \u001b[38;5;28;01mNone\u001b[39;00m))\n\u001b[1;32m    619\u001b[0m \u001b[38;5;66;03m# Create the parser.\u001b[39;00m\n\u001b[0;32m--> 620\u001b[0m parser \u001b[38;5;241m=\u001b[39m TextFileReader(filepath_or_buffer, \u001b[38;5;241m*\u001b[39m\u001b[38;5;241m*\u001b[39mkwds)\n\u001b[1;32m    622\u001b[0m \u001b[38;5;28;01mif\u001b[39;00m chunksize \u001b[38;5;129;01mor\u001b[39;00m iterator:\n\u001b[1;32m    623\u001b[0m     \u001b[38;5;28;01mreturn\u001b[39;00m parser\n",
      "File \u001b[0;32m/opt/anaconda3/lib/python3.13/site-packages/pandas/io/parsers/readers.py:1620\u001b[0m, in \u001b[0;36mTextFileReader.__init__\u001b[0;34m(self, f, engine, **kwds)\u001b[0m\n\u001b[1;32m   1617\u001b[0m     \u001b[38;5;28mself\u001b[39m\u001b[38;5;241m.\u001b[39moptions[\u001b[38;5;124m\"\u001b[39m\u001b[38;5;124mhas_index_names\u001b[39m\u001b[38;5;124m\"\u001b[39m] \u001b[38;5;241m=\u001b[39m kwds[\u001b[38;5;124m\"\u001b[39m\u001b[38;5;124mhas_index_names\u001b[39m\u001b[38;5;124m\"\u001b[39m]\n\u001b[1;32m   1619\u001b[0m \u001b[38;5;28mself\u001b[39m\u001b[38;5;241m.\u001b[39mhandles: IOHandles \u001b[38;5;241m|\u001b[39m \u001b[38;5;28;01mNone\u001b[39;00m \u001b[38;5;241m=\u001b[39m \u001b[38;5;28;01mNone\u001b[39;00m\n\u001b[0;32m-> 1620\u001b[0m \u001b[38;5;28mself\u001b[39m\u001b[38;5;241m.\u001b[39m_engine \u001b[38;5;241m=\u001b[39m \u001b[38;5;28mself\u001b[39m\u001b[38;5;241m.\u001b[39m_make_engine(f, \u001b[38;5;28mself\u001b[39m\u001b[38;5;241m.\u001b[39mengine)\n",
      "File \u001b[0;32m/opt/anaconda3/lib/python3.13/site-packages/pandas/io/parsers/readers.py:1880\u001b[0m, in \u001b[0;36mTextFileReader._make_engine\u001b[0;34m(self, f, engine)\u001b[0m\n\u001b[1;32m   1878\u001b[0m     \u001b[38;5;28;01mif\u001b[39;00m \u001b[38;5;124m\"\u001b[39m\u001b[38;5;124mb\u001b[39m\u001b[38;5;124m\"\u001b[39m \u001b[38;5;129;01mnot\u001b[39;00m \u001b[38;5;129;01min\u001b[39;00m mode:\n\u001b[1;32m   1879\u001b[0m         mode \u001b[38;5;241m+\u001b[39m\u001b[38;5;241m=\u001b[39m \u001b[38;5;124m\"\u001b[39m\u001b[38;5;124mb\u001b[39m\u001b[38;5;124m\"\u001b[39m\n\u001b[0;32m-> 1880\u001b[0m \u001b[38;5;28mself\u001b[39m\u001b[38;5;241m.\u001b[39mhandles \u001b[38;5;241m=\u001b[39m get_handle(\n\u001b[1;32m   1881\u001b[0m     f,\n\u001b[1;32m   1882\u001b[0m     mode,\n\u001b[1;32m   1883\u001b[0m     encoding\u001b[38;5;241m=\u001b[39m\u001b[38;5;28mself\u001b[39m\u001b[38;5;241m.\u001b[39moptions\u001b[38;5;241m.\u001b[39mget(\u001b[38;5;124m\"\u001b[39m\u001b[38;5;124mencoding\u001b[39m\u001b[38;5;124m\"\u001b[39m, \u001b[38;5;28;01mNone\u001b[39;00m),\n\u001b[1;32m   1884\u001b[0m     compression\u001b[38;5;241m=\u001b[39m\u001b[38;5;28mself\u001b[39m\u001b[38;5;241m.\u001b[39moptions\u001b[38;5;241m.\u001b[39mget(\u001b[38;5;124m\"\u001b[39m\u001b[38;5;124mcompression\u001b[39m\u001b[38;5;124m\"\u001b[39m, \u001b[38;5;28;01mNone\u001b[39;00m),\n\u001b[1;32m   1885\u001b[0m     memory_map\u001b[38;5;241m=\u001b[39m\u001b[38;5;28mself\u001b[39m\u001b[38;5;241m.\u001b[39moptions\u001b[38;5;241m.\u001b[39mget(\u001b[38;5;124m\"\u001b[39m\u001b[38;5;124mmemory_map\u001b[39m\u001b[38;5;124m\"\u001b[39m, \u001b[38;5;28;01mFalse\u001b[39;00m),\n\u001b[1;32m   1886\u001b[0m     is_text\u001b[38;5;241m=\u001b[39mis_text,\n\u001b[1;32m   1887\u001b[0m     errors\u001b[38;5;241m=\u001b[39m\u001b[38;5;28mself\u001b[39m\u001b[38;5;241m.\u001b[39moptions\u001b[38;5;241m.\u001b[39mget(\u001b[38;5;124m\"\u001b[39m\u001b[38;5;124mencoding_errors\u001b[39m\u001b[38;5;124m\"\u001b[39m, \u001b[38;5;124m\"\u001b[39m\u001b[38;5;124mstrict\u001b[39m\u001b[38;5;124m\"\u001b[39m),\n\u001b[1;32m   1888\u001b[0m     storage_options\u001b[38;5;241m=\u001b[39m\u001b[38;5;28mself\u001b[39m\u001b[38;5;241m.\u001b[39moptions\u001b[38;5;241m.\u001b[39mget(\u001b[38;5;124m\"\u001b[39m\u001b[38;5;124mstorage_options\u001b[39m\u001b[38;5;124m\"\u001b[39m, \u001b[38;5;28;01mNone\u001b[39;00m),\n\u001b[1;32m   1889\u001b[0m )\n\u001b[1;32m   1890\u001b[0m \u001b[38;5;28;01massert\u001b[39;00m \u001b[38;5;28mself\u001b[39m\u001b[38;5;241m.\u001b[39mhandles \u001b[38;5;129;01mis\u001b[39;00m \u001b[38;5;129;01mnot\u001b[39;00m \u001b[38;5;28;01mNone\u001b[39;00m\n\u001b[1;32m   1891\u001b[0m f \u001b[38;5;241m=\u001b[39m \u001b[38;5;28mself\u001b[39m\u001b[38;5;241m.\u001b[39mhandles\u001b[38;5;241m.\u001b[39mhandle\n",
      "File \u001b[0;32m/opt/anaconda3/lib/python3.13/site-packages/pandas/io/common.py:873\u001b[0m, in \u001b[0;36mget_handle\u001b[0;34m(path_or_buf, mode, encoding, compression, memory_map, is_text, errors, storage_options)\u001b[0m\n\u001b[1;32m    868\u001b[0m \u001b[38;5;28;01melif\u001b[39;00m \u001b[38;5;28misinstance\u001b[39m(handle, \u001b[38;5;28mstr\u001b[39m):\n\u001b[1;32m    869\u001b[0m     \u001b[38;5;66;03m# Check whether the filename is to be opened in binary mode.\u001b[39;00m\n\u001b[1;32m    870\u001b[0m     \u001b[38;5;66;03m# Binary mode does not support 'encoding' and 'newline'.\u001b[39;00m\n\u001b[1;32m    871\u001b[0m     \u001b[38;5;28;01mif\u001b[39;00m ioargs\u001b[38;5;241m.\u001b[39mencoding \u001b[38;5;129;01mand\u001b[39;00m \u001b[38;5;124m\"\u001b[39m\u001b[38;5;124mb\u001b[39m\u001b[38;5;124m\"\u001b[39m \u001b[38;5;129;01mnot\u001b[39;00m \u001b[38;5;129;01min\u001b[39;00m ioargs\u001b[38;5;241m.\u001b[39mmode:\n\u001b[1;32m    872\u001b[0m         \u001b[38;5;66;03m# Encoding\u001b[39;00m\n\u001b[0;32m--> 873\u001b[0m         handle \u001b[38;5;241m=\u001b[39m \u001b[38;5;28mopen\u001b[39m(\n\u001b[1;32m    874\u001b[0m             handle,\n\u001b[1;32m    875\u001b[0m             ioargs\u001b[38;5;241m.\u001b[39mmode,\n\u001b[1;32m    876\u001b[0m             encoding\u001b[38;5;241m=\u001b[39mioargs\u001b[38;5;241m.\u001b[39mencoding,\n\u001b[1;32m    877\u001b[0m             errors\u001b[38;5;241m=\u001b[39merrors,\n\u001b[1;32m    878\u001b[0m             newline\u001b[38;5;241m=\u001b[39m\u001b[38;5;124m\"\u001b[39m\u001b[38;5;124m\"\u001b[39m,\n\u001b[1;32m    879\u001b[0m         )\n\u001b[1;32m    880\u001b[0m     \u001b[38;5;28;01melse\u001b[39;00m:\n\u001b[1;32m    881\u001b[0m         \u001b[38;5;66;03m# Binary mode\u001b[39;00m\n\u001b[1;32m    882\u001b[0m         handle \u001b[38;5;241m=\u001b[39m \u001b[38;5;28mopen\u001b[39m(handle, ioargs\u001b[38;5;241m.\u001b[39mmode)\n",
      "\u001b[0;31mFileNotFoundError\u001b[0m: [Errno 2] No such file or directory: 'data_raw/subfolder1/annoying_subfolder/features-bad-spacing.csv'"
     ]
    }
   ],
   "source": [
    "# same data set, but column/variable 0 is \"miles per gallon\" instead of \"mpg\"\n",
    "\n",
    "new_dset = pd.read_csv(\"data_raw/subfolder1/annoying_subfolder/features-bad-spacing.csv\")\n",
    "print(new_dset)"
   ]
  },
  {
   "cell_type": "code",
   "execution_count": 61,
   "id": "5fda8ad5",
   "metadata": {},
   "outputs": [
    {
     "ename": "NameError",
     "evalue": "name 'new_dset' is not defined",
     "output_type": "error",
     "traceback": [
      "\u001b[0;31m---------------------------------------------------------------------------\u001b[0m",
      "\u001b[0;31mNameError\u001b[0m                                 Traceback (most recent call last)",
      "Cell \u001b[0;32mIn[61], line 1\u001b[0m\n\u001b[0;32m----> 1\u001b[0m data_threshold_horsepower \u001b[38;5;241m=\u001b[39m new_dset\u001b[38;5;241m.\u001b[39mquery(\u001b[38;5;124m\"\u001b[39m\u001b[38;5;124mmiles per gallon >= 20\u001b[39m\u001b[38;5;124m\"\u001b[39m)\n",
      "\u001b[0;31mNameError\u001b[0m: name 'new_dset' is not defined"
     ]
    }
   ],
   "source": [
    "data_threshold_horsepower = new_dset.query(\"miles per gallon >= 20\")"
   ]
  },
  {
   "cell_type": "markdown",
   "id": "25df8f1d",
   "metadata": {},
   "source": [
    "<font size = \"4\">\n",
    "\n",
    "Pretty scary looking error message...basically, it doesn't like the space (variable names can't have spaces in Python)\n",
    "\n",
    "We've seen the double quote (\") and the single quote (')\n",
    "\n",
    "To the left of your 1 key is the backtick/grave accent (`). Need to use this"
   ]
  },
  {
   "cell_type": "code",
   "execution_count": 62,
   "id": "829d6141",
   "metadata": {},
   "outputs": [
    {
     "ename": "NameError",
     "evalue": "name 'new_dset' is not defined",
     "output_type": "error",
     "traceback": [
      "\u001b[0;31m---------------------------------------------------------------------------\u001b[0m",
      "\u001b[0;31mNameError\u001b[0m                                 Traceback (most recent call last)",
      "Cell \u001b[0;32mIn[62], line 5\u001b[0m\n\u001b[1;32m      1\u001b[0m \u001b[38;5;66;03m# next line causes error\u001b[39;00m\n\u001b[1;32m      2\u001b[0m \u001b[38;5;66;03m# data_threshold_horsepower = new_dset.query(\"miles per gallon >= 20\")\u001b[39;00m\n\u001b[1;32m      3\u001b[0m \n\u001b[1;32m      4\u001b[0m \u001b[38;5;66;03m# this next line is fine\u001b[39;00m\n\u001b[0;32m----> 5\u001b[0m data_threshold_horsepower \u001b[38;5;241m=\u001b[39m new_dset\u001b[38;5;241m.\u001b[39mquery(\u001b[38;5;124m\"\u001b[39m\u001b[38;5;124m`miles per gallon` >= 20\u001b[39m\u001b[38;5;124m\"\u001b[39m)\n\u001b[1;32m      6\u001b[0m \u001b[38;5;28mprint\u001b[39m(data_threshold_horsepower)\n",
      "\u001b[0;31mNameError\u001b[0m: name 'new_dset' is not defined"
     ]
    }
   ],
   "source": [
    "# next line causes error\n",
    "# data_threshold_horsepower = new_dset.query(\"miles per gallon >= 20\")\n",
    "\n",
    "# this next line is fine\n",
    "data_threshold_horsepower = new_dset.query(\"`miles per gallon` >= 20\")\n",
    "print(data_threshold_horsepower)"
   ]
  },
  {
   "cell_type": "markdown",
   "id": "f1deaf4b",
   "metadata": {},
   "source": [
    "<font size = \"4\">\n",
    "\n",
    "**Exercise:** Subset the data, gathering all cars with exactly 8 cylinders and mpg $\\ge$ 25.\n"
   ]
  },
  {
   "cell_type": "code",
   "execution_count": 63,
   "id": "6ad20a1d",
   "metadata": {},
   "outputs": [
    {
     "name": "stdout",
     "output_type": "stream",
     "text": [
      "      mpg  cylinders  displacement horsepower  weight  acceleration vehicle_id\n",
      "364  26.6          8           350        105    3725          19.0  O-1693784\n"
     ]
    }
   ],
   "source": [
    "# Your solution here\n",
    "car_subset = carfeatures.query(\"(cylinders == 8) and (mpg >= 25)\")\n",
    "print(car_subset)\n",
    "\n"
   ]
  },
  {
   "cell_type": "markdown",
   "id": "d46a3d21",
   "metadata": {},
   "source": [
    "## <span style=\"color:red\"> VII. Application: Visualizing Subsets of the Data </span>\n",
    "\n",
    "<font size = \"4\">\n",
    "\n",
    "List of unique categories"
   ]
  },
  {
   "cell_type": "code",
   "execution_count": 64,
   "id": "427b4712",
   "metadata": {},
   "outputs": [
    {
     "name": "stdout",
     "output_type": "stream",
     "text": [
      "[8 4 6 3 5]\n",
      "<class 'numpy.ndarray'>\n"
     ]
    }
   ],
   "source": [
    "# Use pd.unique() to extract a numpy array with the unique elements in that column\n",
    "\n",
    "array_unique_cylinders = pd.unique(carfeatures[\"cylinders\"])\n",
    "print(array_unique_cylinders)\n",
    "print(type(array_unique_cylinders))"
   ]
  },
  {
   "cell_type": "markdown",
   "id": "0c5eeced",
   "metadata": {},
   "source": [
    "<font size = \"4\">\n",
    "\n",
    "Compute two overlapping plots"
   ]
  },
  {
   "cell_type": "code",
   "execution_count": 65,
   "id": "8133a3f9",
   "metadata": {},
   "outputs": [
    {
     "data": {
      "image/png": "[encoded data removed]",
      "text/plain": [
       "<Figure size 640x480 with 1 Axes>"
      ]
     },
     "metadata": {},
     "output_type": "display_data"
    }
   ],
   "source": [
    "# If we call plt.scatter() twice to display two plots\n",
    "# To display all plots simultaneously we include plt.show() at the very end.\n",
    "# The idea is that the graphs are stacked on top of each other\n",
    "\n",
    "df_8 = carfeatures.query(\"cylinders == 8\")\n",
    "df_4 = carfeatures.query(\"cylinders == 4\")\n",
    "\n",
    "plt.scatter(x = df_8[\"weight\"],y = df_8[\"acceleration\"])\n",
    "plt.scatter(x = df_4[\"weight\"],y = df_4[\"acceleration\"])\n",
    "plt.legend(labels = [\"8\",\"4\"],\n",
    "           title  = \"Cylinders\")\n",
    "\n",
    "plt.xlabel(\"Weight\")\n",
    "plt.ylabel(\"Acceleration\")\n",
    "plt.show()\n",
    "\n",
    "# Note: If we put plt.show() in between the plots, then the results will\n",
    "# be shown on separate graphs instead."
   ]
  },
  {
   "cell_type": "markdown",
   "id": "3bb1c53d",
   "metadata": {},
   "source": [
    "<font size = \"4\">\n",
    "\n",
    "Compute plots by all categories"
   ]
  },
  {
   "cell_type": "code",
   "execution_count": 66,
   "id": "9db40b3d",
   "metadata": {},
   "outputs": [
    {
     "data": {
      "image/png": "[encoded data removed]",
      "text/plain": [
       "<Figure size 640x480 with 1 Axes>"
      ]
     },
     "metadata": {},
     "output_type": "display_data"
    }
   ],
   "source": [
    "# Compute number of unique categories\n",
    "list_unique_cylinders = pd.unique(carfeatures[\"cylinders\"])\n",
    "\n",
    "# Use a for loop to plot a scatter plot between \"weight\" and \"acceleration\"\n",
    "# for each category. Each plot  will have a different color\n",
    "\n",
    "for category in list_unique_cylinders:\n",
    "    df   = carfeatures.query(\"cylinders == @category\")\n",
    "    plt.scatter(x = df[\"weight\"], y = df[\"acceleration\"])\n",
    "    \n",
    "# Add labels and a legends    \n",
    "plt.xlabel(\"Weight\")\n",
    "plt.ylabel(\"Acceleration\")\n",
    "plt.legend(labels = list_unique_cylinders,\n",
    "           title  = \"Cylinders\")\n",
    "plt.show()"
   ]
  },
  {
   "cell_type": "markdown",
   "id": "0ead2815",
   "metadata": {},
   "source": [
    "<font size=\"4\">\n",
    "\n",
    "**Exercise:** Compute a histogram of \"mpg\" by cylinder count for cars with 4, 6, and 8 cylinders.Here is what it might look like (using a fake dataset):\n",
    "\n",
    "<img src=\"data_raw/fake_histogram.png\" alt=\"drawing\" width=\"400\"/>\n",
    "\n",
    "\n",
    "You can make the histograms transparent by adjusting ```alpha``` in\n",
    "\n",
    "```python\n",
    "    plt.hist(x = ..., alpha = 0.5)\n",
    "```"
   ]
  },
  {
   "cell_type": "code",
   "execution_count": 72,
   "id": "b41a906e",
   "metadata": {},
   "outputs": [
    {
     "name": "stdout",
     "output_type": "stream",
     "text": [
      "[18.  15.  16.  17.  14.  24.  22.  21.  27.  26.  25.  10.  11.   9.\n",
      " 28.  19.  12.  13.  23.  30.  31.  35.  20.  29.  32.  33.  17.5 15.5\n",
      " 14.5 22.5 24.5 18.5 29.5 26.5 16.5 31.5 36.  25.5 33.5 20.5 30.5 21.5\n",
      " 43.1 36.1 32.8 39.4 19.9 19.4 20.2 19.2 25.1 20.6 20.8 18.6 18.1 17.7\n",
      " 27.5 27.2 30.9 21.1 23.2 23.8 23.9 21.6 16.2 19.8 22.3 17.6 18.2 16.9\n",
      " 31.9 34.1 35.7 27.4 34.2 34.5 31.8 37.3 28.4 28.8 26.8 41.5 38.1 32.1\n",
      " 37.2 26.4 24.3 19.1 34.3 29.8 31.3 37.  32.2 46.6 27.9 40.8 44.3 43.4\n",
      " 44.6 40.9 33.8 32.7 23.6 32.4 26.6 25.8 23.5 39.1 39.  35.1 32.3 37.7\n",
      " 34.7 34.4 29.9 33.7 32.9 31.6 28.1 30.7 25.4 24.2 22.4 34.  38.  44. ]\n",
      "<class 'numpy.ndarray'>\n"
     ]
    }
   ],
   "source": [
    "# your code here\n",
    "mpg_cylinders = pd.unique(carfeatures.query(\"cylinders in [4, 6, 8]\")[\"mpg\"])\n",
    "print(mpg_cylinders)\n",
    "print(type(mpg_cylinders))\n"
   ]
  },
  {
   "cell_type": "code",
   "execution_count": 83,
   "id": "155f46ac",
   "metadata": {},
   "outputs": [
    {
     "data": {
      "image/png": "[encoded data removed]",
      "text/plain": [
       "<Figure size 640x480 with 1 Axes>"
      ]
     },
     "metadata": {},
     "output_type": "display_data"
    }
   ],
   "source": [
    "cylinder_4 = carfeatures.query(\"cylinders ==4\")\n",
    "cylinder_6 = carfeatures.query(\"cylinders ==6\")\n",
    "cylinder_8 = carfeatures.query(\"cylinders ==8\")\n",
    "\n",
    "plt.hist(cylinder_4[\"mpg\"], alpha = 0.5)\n",
    "plt.hist(cylinder_6[\"mpg\"], alpha = 0.5)\n",
    "plt.hist(cylinder_8[\"mpg\"], alpha = 0.5)\n",
    "plt.legend(labels = [\"4\", \"6\", \"8\"],\n",
    "           title = \"Cylinders\")\n",
    "plt.xlabel(\"MPG\")\n",
    "plt.ylabel(\"Number of Cars\")\n",
    "plt.title(\"MPG Distribution by Cylinder Count\")\n",
    "plt.show()"
   ]
  }
 ],
 "metadata": {
  "kernelspec": {
   "display_name": "base",
   "language": "python",
   "name": "python3"
  },
  "language_info": {
   "codemirror_mode": {
    "name": "ipython",
    "version": 3
   },
   "file_extension": ".py",
   "mimetype": "text/x-python",
   "name": "python",
   "nbconvert_exporter": "python",
   "pygments_lexer": "ipython3",
   "version": "3.13.5"
  }
 },
 "nbformat": 4,
 "nbformat_minor": 5
}
