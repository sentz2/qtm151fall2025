{
 "cells": [
  {
   "attachments": {},
   "cell_type": "markdown",
   "metadata": {},
   "source": [
    "# Assignment 5"
   ]
  },
  {
   "attachments": {},
   "cell_type": "markdown",
   "metadata": {},
   "source": [
    "<font size = \"5\">\n",
    "\n",
    "- Import the \"pandas\" library (with nickname \"pd\")\n",
    "\n",
    "- Import the \"os\" library (no reason for a nickname here)\n",
    "\n",
    "    - The \"os\" library is the \"operating system\" library\n",
    "    - Helpful for managing folders"
   ]
  },
  {
   "cell_type": "code",
   "execution_count": 23,
   "metadata": {},
   "outputs": [],
   "source": [
    "import pandas as pd\n",
    "import os"
   ]
  },
  {
   "cell_type": "markdown",
   "metadata": {},
   "source": [
    "<font size = \"5\">\n",
    "(a) Make a copy of the dataset `march_flights.csv` in another folder\n",
    "\n",
    "<br>\n",
    "\n",
    "<font size = \"3\">\n",
    "\n",
    "1. Create the following variables:\n",
    "- ``dataset_name = \"march_flights.csv\"``\n",
    "- ``old_directory = \"flight_data/\"``\n",
    "- ``new_directory = \"clean_data/\"``\n",
    "\n",
    "    (Depending on your operating system, you may need to add a forward slash at the beginning of ``old_directory`` and ``new_directory``)\n",
    "\n",
    "2. We are going to make a copy of \"flight_data/march_flights.csv\" and save it as \"clean_data/march_flights.csv\". **Using the variables you created above**, define two string variables ``old_path`` and ``new_path`` which are the original folder/file name and the new folder/file name, respectively.\n",
    "\n",
    "3. Using Pandas, read in the csv file from the original location and save it as a variable. The class/type of this variable is a Pandas DataFrame, which has a method (function attached to the variable) called ``.to_csv``. Use this method to save the DataFrame as a CSV file to the new path you created above.\n",
    "\n",
    "**Hint**: The ``.to_csv`` method has a lot of arguments (all are optional). Only the first one is relevant here.\n"
   ]
  },
  {
   "cell_type": "code",
   "execution_count": 24,
   "metadata": {},
   "outputs": [],
   "source": [
    "# Write your answer\n",
    "dataset_name = \"march_flights.csv\"\n",
    "old_directory = \"flight_data/\"\n",
    "new_directory = \"clean_data/\"\n",
    "old_path = os.path.join(old_directory, dataset_name)\n",
    "new_path = os.path.join(new_directory, dataset_name)\n",
    "df = pd.read_csv(old_path)\n",
    "df_new = df.to_csv(new_path, index=False)\n"
   ]
  },
  {
   "cell_type": "markdown",
   "metadata": {},
   "source": [
    "<font size = \"5\">\n",
    "\n",
    "(b) Check the working directory\n",
    "\n",
    "<font size = \"3\">\n",
    "\n",
    "It's always a good idea when editing a notebook to know **where** it is on your computer.\n",
    "\n",
    "- We will use a new command ``os.getcwd()``\n",
    "- This shows you the current working directory (CWD) on your computer\n",
    "- This is the folder where your Python notebook is stored\n",
    "\n",
    "Run the following commands:\n",
    "\n",
    "- Get CWD and save to variable: ``` current_directory = os.getcwd() ```\n",
    "- Print the string corresponding to CWD: ``` print(current_directory) ```"
   ]
  },
  {
   "cell_type": "code",
   "execution_count": 25,
   "metadata": {},
   "outputs": [
    {
     "name": "stdout",
     "output_type": "stream",
     "text": [
      "/Users/AbigailWang/Documents/GitHub/qtm151fall2025/Assignments/assignment_5\n"
     ]
    }
   ],
   "source": [
    "# Write your answer\n",
    "current_directory = os.getcwd()\n",
    "print(current_directory)"
   ]
  },
  {
   "cell_type": "markdown",
   "metadata": {},
   "source": [
    "<font size = \"5\">\n",
    "\n",
    "(c) Extract files from a directory\n",
    "\n",
    "\n",
    "<font size = \"3\" >\n",
    "1. Use the \"os\" directory to return a list of files in the \"flight_data\" folder by creating a variable as follows:\n",
    "<br>\n",
    "\n",
    "```python\n",
    "list_filenames = os.listdir(\"flight_data\")\n",
    "```\n",
    "Since you should make liberal use of the ``print`` command when trying something new, print this variable. (Depending on operating system, might need to add forward slash before flight_data)\n",
    "<br>\n",
    "<br>\n",
    "2. We will extract the file names which start with the letter \"m\" and save them to a list called ``list_m_months``. Create an empty list with this variable name.\n",
    "<br>\n",
    "<br>\n",
    "3. Using a for loop, loop over the file names in ``list_filenames``. In the loop, for each file name\n",
    "- Append the file name to ``list_m_months`` if it begins with the letter \"m\".\n",
    "- Print the phrase \"Filename does not begin with 'm'\" if the file name starts with a different character/letter.\n",
    "- After the loop, print the variable ``list_m_months``.\n",
    "<br>\n",
    "<br>\n",
    "4. Loop over the file_names in ``list_m_months``, repeating what you did in part (a) each time. Specifically for each file name, read in the CSV file with Pandas and use ``.to_csv`` to save a copy in the folder ``m_months``"
   ]
  },
  {
   "cell_type": "code",
   "execution_count": 37,
   "metadata": {},
   "outputs": [
    {
     "name": "stdout",
     "output_type": "stream",
     "text": [
      "All files in flight_data folder: ['april_flights.csv', 'may_flights.csv', 'march_flights.csv']\n",
      "Filename does not begin with 'm'\n",
      "All files in m_months folder: ['may_flights.csv', 'march_flights.csv']\n"
     ]
    }
   ],
   "source": [
    "# Write your answer\n",
    "list_filenames = os.listdir(\"flight_data/\")\n",
    "print( \"All files in flight_data folder:\", list_filenames)\n",
    "list_m_months = []\n",
    "list_dataframes = []\n",
    "for filename in list_filenames:\n",
    "    if filename.startswith(\"m\"):\n",
    "        list_m_months.append(filename)\n",
    "        file_path = os.path.join(\"flight_data/\", filename)\n",
    "        df_months = pd.read_csv(file_path)\n",
    "        output_path = os.path.join(\"m_months/\", filename)\n",
    "        df_months.to_csv(output_path, index=False)\n",
    "    else:\n",
    "        print(\"Filename does not begin with 'm'\")\n",
    "print(\"All files in m_months folder:\", list_m_months)\n",
    "\n"
   ]
  },
  {
   "attachments": {},
   "cell_type": "markdown",
   "metadata": {},
   "source": [
    "<font size = \"5\">\n",
    "\n",
    "(d) Define a Function\n",
    "\n",
    "<font size = \"3\">\n",
    "\n",
    "The formula for converting temperature from Fahrenheit to Kelvin is \n",
    "$$\\frac{5}{9}(F-32)+273.15$$\n",
    "where $F$ = temperature in degrees Fahrenheit\n",
    "1. Define a function ```f_to_k``` with a single argument ``F`` which converts the input temperature (in Fahrenheit) to the equivalent value in Kelvin.\n",
    "\n",
    "\n",
    "2. Use your function to convert the following Fahrenheit temperatures to Kelvin and print the values: <br>\n",
    "- 32 degrees Fahrenheit (freezing point of water)\n",
    "- 212 degrees Fahrenheit (boiling point of water)\n",
    "- 165 degrees Fahrenheit (minimial safe internal temperature of cooked chicken)"
   ]
  },
  {
   "cell_type": "code",
   "execution_count": 39,
   "metadata": {},
   "outputs": [
    {
     "name": "stdout",
     "output_type": "stream",
     "text": [
      "Temperatures in Kelvin: [273.15, 373.15, 347.0388888888889]\n"
     ]
    }
   ],
   "source": [
    "# Write your answer\n",
    "f_to_k = lambda x: (x-32) * 5.0/9.0 + 273.15\n",
    "list_temps_f = [32, 212, 165]\n",
    "list_temps_k = [f_to_k(x) for x in list_temps_f]\n",
    "print(\"Temperatures in Kelvin:\", list_temps_k)"
   ]
  },
  {
   "attachments": {},
   "cell_type": "markdown",
   "metadata": {},
   "source": [
    "<font size = \"5\">\n",
    "\n",
    "(e) Import Python Scripts\n",
    "\n",
    "<font size = \"3\">\n",
    "\n",
    "Inside the folder \"scripts\", there is a file called \"auxiliaryfunction.py\". It contains a single function called ``leagues_to_miles`` which converts a length measured in \"leagues\" (the French metric league used between 1812 and 1840) to the equivalent length in \"miles\" (a more familiar unit of length).\n",
    "\n",
    "1. Import the auxiliaryfunction \"library\" (which only has one function) by using the command\n",
    "```python\n",
    "    import scripts.auxiliaryfunction as af\n",
    "```\n",
    "(Note that we are giving it a short nickname)\n",
    "\n",
    "2. In 1870, author Jules Verne published the book \"Vingt Mille Lieues sous Les Mers\" or \"Twenty Thousand Leagues Under the Seas\" in English. Verne was specifically referring to the French metric league (lieue) in the title.\n",
    "- Using the function from ``auxiliaryfunction.py``, print the number of miles equivalent to 20,000 leagues.\n"
   ]
  },
  {
   "cell_type": "code",
   "execution_count": 41,
   "metadata": {},
   "outputs": [
    {
     "name": "stdout",
     "output_type": "stream",
     "text": [
      "Number of miles equivalent to 20,000 leagues: 49709.69537898671\n"
     ]
    }
   ],
   "source": [
    "# Write your answer\n",
    "import scripts.auxiliaryfunction as af\n",
    "miles_leagues = af.leagues_to_miles(20000)\n",
    "print(\"Number of miles equivalent to 20,000 leagues:\", miles_leagues)\n"
   ]
  },
  {
   "attachments": {},
   "cell_type": "markdown",
   "metadata": {},
   "source": [
    "<font size = \"5\">"
   ]
  }
 ],
 "metadata": {
  "kernelspec": {
   "display_name": "base",
   "language": "python",
   "name": "python3"
  },
  "language_info": {
   "codemirror_mode": {
    "name": "ipython",
    "version": 3
   },
   "file_extension": ".py",
   "mimetype": "text/x-python",
   "name": "python",
   "nbconvert_exporter": "python",
   "pygments_lexer": "ipython3",
   "version": "3.13.5"
  },
  "orig_nbformat": 4
 },
 "nbformat": 4,
 "nbformat_minor": 2
}
