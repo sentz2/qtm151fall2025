{
 "cells": [
  {
   "attachments": {},
   "cell_type": "markdown",
   "metadata": {},
   "source": [
    "# <span style=\"color:red\"> QTM 151 - Quiz 1 </span>"
   ]
  },
  {
   "attachments": {},
   "cell_type": "markdown",
   "metadata": {},
   "source": [
    "## Submit as an HTML file\n",
    "## Quiz is open 11:30am to 12:20pm"
   ]
  },
  {
   "attachments": {},
   "cell_type": "markdown",
   "metadata": {},
   "source": [
    "<font size=\"5\"> \n",
    "\n",
    "Print your name below"
   ]
  },
  {
   "cell_type": "code",
   "execution_count": null,
   "metadata": {},
   "outputs": [],
   "source": [
    "# Write your answer here\n",
    "\n",
    "print()"
   ]
  },
  {
   "attachments": {},
   "cell_type": "markdown",
   "metadata": {},
   "source": [
    "<font size = \"5\" >\n",
    "This quiz is open book \n",
    "\n",
    "- You can use the lecture notes\n",
    "- You will get partial credit for attempting the questions\n",
    "- To get full credit, the code should work as intended\n",
    "- You should <span style=\"color:red\"> NOT </span> communicate with other students\n",
    "\n",
    "Print the following message: <br>\n",
    "\n",
    "\"I will abide by Emory's code of conduct\"\n"
   ]
  },
  {
   "cell_type": "code",
   "execution_count": null,
   "metadata": {},
   "outputs": [],
   "source": [
    "# Write your answer here:\n",
    "print( )\n"
   ]
  },
  {
   "attachments": {},
   "cell_type": "markdown",
   "metadata": {},
   "source": [
    "<font size = \"5\">\n",
    "\n",
    "Import the libraries \"numpy\", \"matplotlib.pyplot\", and \"pandas\""
   ]
  },
  {
   "cell_type": "code",
   "execution_count": null,
   "metadata": {},
   "outputs": [],
   "source": [
    "import numpy as np \n",
    "import matplotlib.pyplot as plt \n",
    "import pandas as pd\n"
   ]
  },
  {
   "cell_type": "markdown",
   "metadata": {},
   "source": [
    "<font size = \"5\">\n",
    "\n",
    "1. IF/ELIF/ELSE statements\n",
    "\n",
    "<font size = \"3\">\n",
    "\n",
    "- In the beginning of the code cell below, two lists are created, where element 0 is one of two random choices: \n",
    "```python\n",
    "list_p = [\"Introduction\"/\"Intro\", \"to\", \"Python\"]\n",
    "list_r = [\"Introduction\"/\"Intro\", \"to\", \"R\"]\n",
    "```\n",
    "\n",
    "- Create a new variable ``` keyword = \"Introduction\" ```\n",
    "- Create an if/elif/else block that tests whether ``` keyword ``` is part of either <br>\n",
    "list.  Depending on the outcome (belongs to list_p, belongs to list_r, doesn't belong to either list) print an appropriate message to the screen.\n",
    "\n",
    "HINT: If the creation of list_p and list_r is confusing, add print statements to view the two lists and run the cell 3-4 times to see some of the possible situations\n",
    "\n",
    "\n"
   ]
  },
  {
   "cell_type": "code",
   "execution_count": null,
   "metadata": {},
   "outputs": [],
   "source": [
    "### create lists DO NOT CHANGE\n",
    "str_choices = [[\"Introduction\", \"Intro\"], [\"Intro\", \"Introduction\"], [\"Intro\", \"Intro\"]]\n",
    "str_indices = np.random.choice([0, 1, 2])\n",
    "start_str = str_choices[str_indices]\n",
    "\n",
    "list_p = [start_str[0], \"to\", \"Python\"]\n",
    "list_r = [start_str[1], \"to\", \"R\"]\n",
    "\n",
    "### Your solution below\n",
    "\n",
    "\n"
   ]
  },
  {
   "attachments": {},
   "cell_type": "markdown",
   "metadata": {},
   "source": [
    "<font size = \"5\">\n",
    "\n",
    "2. Generate a vector of values and plot it\n",
    "\n",
    "<font size = \"3\">\n",
    "\n",
    "- Below, two lists are defined containing values of $x_k$ and $y_k$\n",
    "\n",
    "```python\n",
    "    coord_x = [1,4, 0, -1, 20, 40]\n",
    "    coord_y = [2,2, 0, 10, 0, 1]\n",
    "```\n",
    "\n",
    "- Create a vector (**vector always means numpy array**) ```hypotenuse_sqr``` with elements $h_k$ defined by the formula\n",
    "\n",
    "$\\qquad h_k = x_k^2 + y_k^2$\n",
    "\n",
    "- You **should not** define it manually: so \"hypoteneuse_sqr = np.array([5, 20, 0, 101, 400, 1601])\" is not an acceptable answer\n",
    "\n",
    "- Produce a **histogram** with the elements of ```hypotenuse_sqr``` on the horizontal axis\n",
    "- Label the axes and the title\n",
    "- Change the color to \"orange\", \"green\" or \"purple\" (you choose)\n",
    "- Make sure the plot appears in an output cell\n",
    "\n",
    "Hint: Most mathematical operations are defined for Numpy arrays, which allows you to avoid loops\n",
    "\n",
    "Hint: type \"help(plt.hist)\" to see which argument is used to change color"
   ]
  },
  {
   "cell_type": "code",
   "execution_count": null,
   "metadata": {},
   "outputs": [],
   "source": [
    "coord_x = [1,4, 0, -1, 20, 40]\n",
    "coord_y = [2,2, 0, 10, 0, 1]\n",
    "\n",
    "### Your solution below\n",
    "\n"
   ]
  },
  {
   "attachments": {},
   "cell_type": "markdown",
   "metadata": {},
   "source": [
    "<font size = \"5\">\n",
    "\n",
    "3. Histograms of random variables\n",
    "\n",
    "<font size = \"3\">\n",
    "\n",
    "- Let $n = 500$\n",
    "- Generate \"vec_x\" from a normal distribution with (loc = 0,scale = 1,size = n)\n",
    "- Generate \"vex_z\" from a normal distribution with (loc = 5,scale = 1,size = n)\n",
    "- Plot two **histograms** on a single row using the ```plt.subplots``` syntax\n",
    "    - Label the axes and title\n",
    "    - Each graph should have its axes labeled, and should have their own title\n",
    " \n",
    "Hint: If you can't remember how subplots works, generate two individual plots for partial credit"
   ]
  },
  {
   "cell_type": "code",
   "execution_count": null,
   "metadata": {},
   "outputs": [],
   "source": [
    "n = 500\n",
    "\n",
    "### Your solution below:\n",
    "\n"
   ]
  },
  {
   "cell_type": "markdown",
   "metadata": {},
   "source": [
    "<font size = \"5\">\n",
    "\n",
    "4. Combine information across datasets\n",
    "\n",
    "<font size = \"3\">\n",
    "\n",
    "- Read the dataset \"/data_quiz_1/germany_co2_emissions.csv\" and store it as \"data_germany\"\n",
    "- View the dataset, and see what variables it contains\n",
    "- Create a **scatter plot** of CO2 emissions with the following characteristics\n",
    "    - The yearly variable on the x-axis.\n",
    "    - Germany's CO2 emissions on the y-axis.\n",
    "    - Label the axes\n"
   ]
  },
  {
   "cell_type": "code",
   "execution_count": null,
   "metadata": {},
   "outputs": [],
   "source": [
    "### Your solution below:\n",
    "\n"
   ]
  },
  {
   "attachments": {},
   "cell_type": "markdown",
   "metadata": {},
   "source": [
    "<font size = \"5\">\n",
    "\n",
    "5. Loop through dfferent variables and plot\n",
    "\n",
    "\n",
    "<font size = \"3\">\n",
    "\n",
    "- Read the dataset \"data_quiz_1/wdi_ageprop_2020.csv\"\n",
    "- Create a list of variable names with the following elements:\n",
    "\n",
    "```python\n",
    "    list_varnames = [\"percent_ages0to14\",\"percent_ages15to64\"]\n",
    "```\n",
    "\n",
    "- Run a for loop that computes the mean for each variable and print it on screen.\n",
    "\n",
    "Hint: Computing the mean of a column/variable from a Pandas dataset is just like computing the mean of a Numpy array\n"
   ]
  },
  {
   "cell_type": "code",
   "execution_count": null,
   "metadata": {},
   "outputs": [],
   "source": [
    "### Your solution below:\n",
    "\n",
    "\n"
   ]
  },
  {
   "cell_type": "markdown",
   "metadata": {},
   "source": [
    "<font size = \"5\">\n",
    "\n",
    "6. Run loop through different datasets and compute statistics\n",
    "\n",
    "<font size = \"3\">\n",
    "\n",
    "- Create a list with the \".csv\" dataset names of two countries of your choice. For example\n",
    "\n",
    "```python\n",
    "    [\"data_quiz_1/name1.csv\",\"data_quiz_1/name2.csv\"] \n",
    "```\n",
    "\n",
    "- Create an empty list called ``` list_emissions ```\n",
    "\n",
    "- Run a for-loop over the list of dataset names. Inside the loop:\n",
    "    - Read the corresponding \".csv\" dataset.\n",
    "    - Compute the mean of \"total_emissions\" for each respective country, <br>\n",
    "    and store it as an element of ```list_emissions```\n",
    "\n",
    "- After the loop, print ```list_emissions```\n",
    "\n",
    "HINT: Use ```.append()``` (See Lecture 5-supplement or Lecture 7)\n"
   ]
  },
  {
   "cell_type": "code",
   "execution_count": null,
   "metadata": {},
   "outputs": [],
   "source": [
    "### Your solution below:\n",
    "\n"
   ]
  }
 ],
 "metadata": {
  "kernelspec": {
   "display_name": "base",
   "language": "python",
   "name": "python3"
  },
  "language_info": {
   "codemirror_mode": {
    "name": "ipython",
    "version": 3
   },
   "file_extension": ".py",
   "mimetype": "text/x-python",
   "name": "python",
   "nbconvert_exporter": "python",
   "pygments_lexer": "ipython3",
   "version": "3.13.5"
  },
  "orig_nbformat": 4
 },
 "nbformat": 4,
 "nbformat_minor": 2
}
